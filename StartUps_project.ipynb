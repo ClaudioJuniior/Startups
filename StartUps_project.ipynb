{
  "nbformat": 4,
  "nbformat_minor": 0,
  "metadata": {
    "colab": {
      "provenance": [],
      "collapsed_sections": [],
      "mount_file_id": "1LeUgYwtyJDL6H5xvsimkG4uM4E5YQu7_",
      "authorship_tag": "ABX9TyOSXqEUSyHv/qAr+e6mxHD+",
      "include_colab_link": true
    },
    "kernelspec": {
      "name": "python3",
      "display_name": "Python 3"
    },
    "language_info": {
      "name": "python"
    }
  },
  "cells": [
    {
      "cell_type": "markdown",
      "metadata": {
        "id": "view-in-github",
        "colab_type": "text"
      },
      "source": [
        "<a href=\"https://colab.research.google.com/github/ClaudioJuniior/Startups/blob/main/StartUps_project.ipynb\" target=\"_parent\"><img src=\"https://colab.research.google.com/assets/colab-badge.svg\" alt=\"Open In Colab\"/></a>"
      ]
    },
    {
      "cell_type": "markdown",
      "source": [
        "Empresas consideradas startups se tornaram realidade no cenário econômico, ainda mais depois da pandemia de 2020 que acelerou o avanço tecnológico e de inovações por conta da necessidade do isolamento social. Dentro desse segmento ainda encontramos empresas denominadas como unicórnios, que são as aquelas que alcançaram ao menos $1B em valuation.\n",
        "\n",
        "Ano passado essas empresas demonstraram grande eficácia: 537 novos unicórnios apenas em 1 ano. Entretanto tal cenário deixou de ser realidade nos últimos meses. No segundo semestre de 2022 apenas 87 empresas chegaram ao patamar de unicórnio, mostrando os impactos da falta de investimento e volatidade do mercado de startups.\n",
        "\n",
        "Com base neste cenário surgem algumas dúvidas: como está o cenário de unicórnios no mundo? Qual é a participação do mercado brasileiro em comparação ao restante do mundo? Vamos analisar a partir de uma base de dados que descreve o mercado de unicórnios pelo mundo."
      ],
      "metadata": {
        "id": "NcJJGasCvHKi"
      }
    },
    {
      "cell_type": "markdown",
      "source": [
        "##Case unicórnios V.1\n",
        "Análise sobre as startups unicórnios em nível global.\n",
        "\n",
        "**Objetivo**: Entender o cenário das empresas e construir uma visão econômica sobre essas, como por exemplo:\n",
        "- Quais são os países com maior relavância no contexto de startups unicórnios?\n",
        "- Existe algum país liderando essa disputa por mercado?\n",
        "- Qual a participação do Brasil nesse processo?\n",
        "\n",
        "\n",
        "\n",
        "\n"
      ],
      "metadata": {
        "id": "Xjg5KazUDwX5"
      }
    },
    {
      "cell_type": "markdown",
      "source": [
        "-> Simulação de case de negócio\n",
        "\n",
        "**Público alvo**: Grupo de investidores que gostaria de ter uma noção do cenário Brasil x Resto do mundo no setor de startups\n",
        "\n",
        "**4ps:** \n",
        "\n",
        "**Problema:** Incerteza sobre o retorno de investimento em startups, uma vez que o mercado se mostra instável.\n",
        "\n",
        "**Potencial:** Identificar padrões de sucesso nas empresas podendo contribuir com investidores e cias.\n",
        "\n",
        "**Produto:** Cartilha e indicadores de setores e destaques das empresas promovendo uma comparação entre mercado BR x Mundo\n",
        "\n",
        "**Proposta:** Análise geral dos unicórnios estabelecendo uma comparação entre Brasil x Mundo."
      ],
      "metadata": {
        "id": "x99T-6rR1gHj"
      }
    },
    {
      "cell_type": "markdown",
      "source": [
        "\n",
        "Cíclo analítico\n",
        "\n",
        "\n",
        "\n",
        "Hipóteses\n",
        "\n",
        "1.   Fintechs são maiores do que as demais.\n",
        "2.   EUA e China (potências) lideram em qtde e valor econômico.\n",
        "3.   Brasil é destaque no processo de unicórnios.\n",
        "4.   Quanto mais velha maior a empresa em termos de valuation.\n",
        "\n",
        "\n",
        "\n",
        "\n",
        "\n",
        "\n",
        "\n",
        "\n",
        "\n",
        "\n",
        "\n"
      ],
      "metadata": {
        "id": "VYVqXV7jzNt4"
      }
    },
    {
      "cell_type": "markdown",
      "source": [
        "#Pacotes e importando arquivo\n"
      ],
      "metadata": {
        "id": "-yJ4r64BhU-Y"
      }
    },
    {
      "cell_type": "code",
      "source": [
        "import pandas as pd\n",
        "import matplotlib.pyplot as plt \n",
        "import seaborn as sns\n",
        "from datetime import datetime \n",
        "import numpy as np"
      ],
      "metadata": {
        "id": "rAVIGWjRM90G"
      },
      "execution_count": 1,
      "outputs": []
    },
    {
      "cell_type": "markdown",
      "source": [
        "Importando arquivos"
      ],
      "metadata": {
        "id": "WMOkQwhCof46"
      }
    },
    {
      "cell_type": "code",
      "source": [
        "df = pd.read_csv(\"/content/drive/MyDrive/unicorns till august 2022.csv\")"
      ],
      "metadata": {
        "id": "zvmYrapRP0b0"
      },
      "execution_count": 2,
      "outputs": []
    },
    {
      "cell_type": "markdown",
      "source": [
        "Visualizando o dataset"
      ],
      "metadata": {
        "id": "AVmBQK_CokOs"
      }
    },
    {
      "cell_type": "code",
      "source": [
        "df"
      ],
      "metadata": {
        "colab": {
          "base_uri": "https://localhost:8080/",
          "height": 468
        },
        "id": "sqDyYXf0Q7GB",
        "outputId": "2b88f833-6cdf-4770-e75c-ad3fbdfe981b"
      },
      "execution_count": 3,
      "outputs": [
        {
          "output_type": "execute_result",
          "data": {
            "text/plain": [
              "                  Company Valuation ($B) Date Joined        Country  \\\n",
              "0               ByteDance           $140    4/7/2017          China   \n",
              "1                  SpaceX           $127   12/1/2012  United States   \n",
              "2                   SHEIN           $100    7/3/2018          China   \n",
              "3                  Stripe            $95   1/23/2014  United States   \n",
              "4                   Canva            $40    1/8/2018      Australia   \n",
              "...                   ...            ...         ...            ...   \n",
              "1177          LeadSquared             $1   6/21/2022          India   \n",
              "1178            FourKites             $1   6/21/2022  United States   \n",
              "1179          VulcanForms             $1    7/5/2022  United States   \n",
              "1180          SingleStore             $1   7/12/2022  United States   \n",
              "1181  Unstoppable Domains             $1   7/27/2022  United States   \n",
              "\n",
              "              City                              Industry  \\\n",
              "0           Beijing              Artificial intelligence   \n",
              "1         Hawthorne                                Other   \n",
              "2          Shenzhen      E-commerce & direct-to-consumer   \n",
              "3     San Francisco                              Fintech   \n",
              "4       Surry Hills         Internet software & services   \n",
              "...             ...                                  ...   \n",
              "1177      Bengaluru         Internet software & services   \n",
              "1178        Chicago  Supply chain, logistics, & delivery   \n",
              "1179     Burlington  Supply chain, logistics, & delivery   \n",
              "1180  San Francisco          Data management & analytics   \n",
              "1181      Las Vegas         Internet software & services   \n",
              "\n",
              "                                              Investors  \n",
              "0     Sequoia Capital China, SIG Asia Investments, S...  \n",
              "1     Founders Fund, Draper Fisher Jurvetson, Rothen...  \n",
              "2     Tiger Global Management, Sequoia Capital China...  \n",
              "3           Khosla Ventures, LowercaseCapital, capitalG  \n",
              "4     Sequoia Capital China, Blackbird Ventures, Mat...  \n",
              "...                                                 ...  \n",
              "1177  Gaja Capital Partners, Stakeboat Capital, West...  \n",
              "1178  Hyde Park Venture Partners, Bain Capital Ventu...  \n",
              "1179  Eclipse Ventures, D1 Capital Partners, Industr...  \n",
              "1180            Google Ventures, Accel, Data Collective  \n",
              "1181              Boost VC, Draper Associates, Gaingels  \n",
              "\n",
              "[1182 rows x 7 columns]"
            ],
            "text/html": [
              "\n",
              "  <div id=\"df-608fb0ec-3f8c-4393-b317-d8f614f44e3e\">\n",
              "    <div class=\"colab-df-container\">\n",
              "      <div>\n",
              "<style scoped>\n",
              "    .dataframe tbody tr th:only-of-type {\n",
              "        vertical-align: middle;\n",
              "    }\n",
              "\n",
              "    .dataframe tbody tr th {\n",
              "        vertical-align: top;\n",
              "    }\n",
              "\n",
              "    .dataframe thead th {\n",
              "        text-align: right;\n",
              "    }\n",
              "</style>\n",
              "<table border=\"1\" class=\"dataframe\">\n",
              "  <thead>\n",
              "    <tr style=\"text-align: right;\">\n",
              "      <th></th>\n",
              "      <th>Company</th>\n",
              "      <th>Valuation ($B)</th>\n",
              "      <th>Date Joined</th>\n",
              "      <th>Country</th>\n",
              "      <th>City</th>\n",
              "      <th>Industry</th>\n",
              "      <th>Investors</th>\n",
              "    </tr>\n",
              "  </thead>\n",
              "  <tbody>\n",
              "    <tr>\n",
              "      <th>0</th>\n",
              "      <td>ByteDance</td>\n",
              "      <td>$140</td>\n",
              "      <td>4/7/2017</td>\n",
              "      <td>China</td>\n",
              "      <td>Beijing</td>\n",
              "      <td>Artificial intelligence</td>\n",
              "      <td>Sequoia Capital China, SIG Asia Investments, S...</td>\n",
              "    </tr>\n",
              "    <tr>\n",
              "      <th>1</th>\n",
              "      <td>SpaceX</td>\n",
              "      <td>$127</td>\n",
              "      <td>12/1/2012</td>\n",
              "      <td>United States</td>\n",
              "      <td>Hawthorne</td>\n",
              "      <td>Other</td>\n",
              "      <td>Founders Fund, Draper Fisher Jurvetson, Rothen...</td>\n",
              "    </tr>\n",
              "    <tr>\n",
              "      <th>2</th>\n",
              "      <td>SHEIN</td>\n",
              "      <td>$100</td>\n",
              "      <td>7/3/2018</td>\n",
              "      <td>China</td>\n",
              "      <td>Shenzhen</td>\n",
              "      <td>E-commerce &amp; direct-to-consumer</td>\n",
              "      <td>Tiger Global Management, Sequoia Capital China...</td>\n",
              "    </tr>\n",
              "    <tr>\n",
              "      <th>3</th>\n",
              "      <td>Stripe</td>\n",
              "      <td>$95</td>\n",
              "      <td>1/23/2014</td>\n",
              "      <td>United States</td>\n",
              "      <td>San Francisco</td>\n",
              "      <td>Fintech</td>\n",
              "      <td>Khosla Ventures, LowercaseCapital, capitalG</td>\n",
              "    </tr>\n",
              "    <tr>\n",
              "      <th>4</th>\n",
              "      <td>Canva</td>\n",
              "      <td>$40</td>\n",
              "      <td>1/8/2018</td>\n",
              "      <td>Australia</td>\n",
              "      <td>Surry Hills</td>\n",
              "      <td>Internet software &amp; services</td>\n",
              "      <td>Sequoia Capital China, Blackbird Ventures, Mat...</td>\n",
              "    </tr>\n",
              "    <tr>\n",
              "      <th>...</th>\n",
              "      <td>...</td>\n",
              "      <td>...</td>\n",
              "      <td>...</td>\n",
              "      <td>...</td>\n",
              "      <td>...</td>\n",
              "      <td>...</td>\n",
              "      <td>...</td>\n",
              "    </tr>\n",
              "    <tr>\n",
              "      <th>1177</th>\n",
              "      <td>LeadSquared</td>\n",
              "      <td>$1</td>\n",
              "      <td>6/21/2022</td>\n",
              "      <td>India</td>\n",
              "      <td>Bengaluru</td>\n",
              "      <td>Internet software &amp; services</td>\n",
              "      <td>Gaja Capital Partners, Stakeboat Capital, West...</td>\n",
              "    </tr>\n",
              "    <tr>\n",
              "      <th>1178</th>\n",
              "      <td>FourKites</td>\n",
              "      <td>$1</td>\n",
              "      <td>6/21/2022</td>\n",
              "      <td>United States</td>\n",
              "      <td>Chicago</td>\n",
              "      <td>Supply chain, logistics, &amp; delivery</td>\n",
              "      <td>Hyde Park Venture Partners, Bain Capital Ventu...</td>\n",
              "    </tr>\n",
              "    <tr>\n",
              "      <th>1179</th>\n",
              "      <td>VulcanForms</td>\n",
              "      <td>$1</td>\n",
              "      <td>7/5/2022</td>\n",
              "      <td>United States</td>\n",
              "      <td>Burlington</td>\n",
              "      <td>Supply chain, logistics, &amp; delivery</td>\n",
              "      <td>Eclipse Ventures, D1 Capital Partners, Industr...</td>\n",
              "    </tr>\n",
              "    <tr>\n",
              "      <th>1180</th>\n",
              "      <td>SingleStore</td>\n",
              "      <td>$1</td>\n",
              "      <td>7/12/2022</td>\n",
              "      <td>United States</td>\n",
              "      <td>San Francisco</td>\n",
              "      <td>Data management &amp; analytics</td>\n",
              "      <td>Google Ventures, Accel, Data Collective</td>\n",
              "    </tr>\n",
              "    <tr>\n",
              "      <th>1181</th>\n",
              "      <td>Unstoppable Domains</td>\n",
              "      <td>$1</td>\n",
              "      <td>7/27/2022</td>\n",
              "      <td>United States</td>\n",
              "      <td>Las Vegas</td>\n",
              "      <td>Internet software &amp; services</td>\n",
              "      <td>Boost VC, Draper Associates, Gaingels</td>\n",
              "    </tr>\n",
              "  </tbody>\n",
              "</table>\n",
              "<p>1182 rows × 7 columns</p>\n",
              "</div>\n",
              "      <button class=\"colab-df-convert\" onclick=\"convertToInteractive('df-608fb0ec-3f8c-4393-b317-d8f614f44e3e')\"\n",
              "              title=\"Convert this dataframe to an interactive table.\"\n",
              "              style=\"display:none;\">\n",
              "        \n",
              "  <svg xmlns=\"http://www.w3.org/2000/svg\" height=\"24px\"viewBox=\"0 0 24 24\"\n",
              "       width=\"24px\">\n",
              "    <path d=\"M0 0h24v24H0V0z\" fill=\"none\"/>\n",
              "    <path d=\"M18.56 5.44l.94 2.06.94-2.06 2.06-.94-2.06-.94-.94-2.06-.94 2.06-2.06.94zm-11 1L8.5 8.5l.94-2.06 2.06-.94-2.06-.94L8.5 2.5l-.94 2.06-2.06.94zm10 10l.94 2.06.94-2.06 2.06-.94-2.06-.94-.94-2.06-.94 2.06-2.06.94z\"/><path d=\"M17.41 7.96l-1.37-1.37c-.4-.4-.92-.59-1.43-.59-.52 0-1.04.2-1.43.59L10.3 9.45l-7.72 7.72c-.78.78-.78 2.05 0 2.83L4 21.41c.39.39.9.59 1.41.59.51 0 1.02-.2 1.41-.59l7.78-7.78 2.81-2.81c.8-.78.8-2.07 0-2.86zM5.41 20L4 18.59l7.72-7.72 1.47 1.35L5.41 20z\"/>\n",
              "  </svg>\n",
              "      </button>\n",
              "      \n",
              "  <style>\n",
              "    .colab-df-container {\n",
              "      display:flex;\n",
              "      flex-wrap:wrap;\n",
              "      gap: 12px;\n",
              "    }\n",
              "\n",
              "    .colab-df-convert {\n",
              "      background-color: #E8F0FE;\n",
              "      border: none;\n",
              "      border-radius: 50%;\n",
              "      cursor: pointer;\n",
              "      display: none;\n",
              "      fill: #1967D2;\n",
              "      height: 32px;\n",
              "      padding: 0 0 0 0;\n",
              "      width: 32px;\n",
              "    }\n",
              "\n",
              "    .colab-df-convert:hover {\n",
              "      background-color: #E2EBFA;\n",
              "      box-shadow: 0px 1px 2px rgba(60, 64, 67, 0.3), 0px 1px 3px 1px rgba(60, 64, 67, 0.15);\n",
              "      fill: #174EA6;\n",
              "    }\n",
              "\n",
              "    [theme=dark] .colab-df-convert {\n",
              "      background-color: #3B4455;\n",
              "      fill: #D2E3FC;\n",
              "    }\n",
              "\n",
              "    [theme=dark] .colab-df-convert:hover {\n",
              "      background-color: #434B5C;\n",
              "      box-shadow: 0px 1px 3px 1px rgba(0, 0, 0, 0.15);\n",
              "      filter: drop-shadow(0px 1px 2px rgba(0, 0, 0, 0.3));\n",
              "      fill: #FFFFFF;\n",
              "    }\n",
              "  </style>\n",
              "\n",
              "      <script>\n",
              "        const buttonEl =\n",
              "          document.querySelector('#df-608fb0ec-3f8c-4393-b317-d8f614f44e3e button.colab-df-convert');\n",
              "        buttonEl.style.display =\n",
              "          google.colab.kernel.accessAllowed ? 'block' : 'none';\n",
              "\n",
              "        async function convertToInteractive(key) {\n",
              "          const element = document.querySelector('#df-608fb0ec-3f8c-4393-b317-d8f614f44e3e');\n",
              "          const dataTable =\n",
              "            await google.colab.kernel.invokeFunction('convertToInteractive',\n",
              "                                                     [key], {});\n",
              "          if (!dataTable) return;\n",
              "\n",
              "          const docLinkHtml = 'Like what you see? Visit the ' +\n",
              "            '<a target=\"_blank\" href=https://colab.research.google.com/notebooks/data_table.ipynb>data table notebook</a>'\n",
              "            + ' to learn more about interactive tables.';\n",
              "          element.innerHTML = '';\n",
              "          dataTable['output_type'] = 'display_data';\n",
              "          await google.colab.output.renderOutput(dataTable, element);\n",
              "          const docLink = document.createElement('div');\n",
              "          docLink.innerHTML = docLinkHtml;\n",
              "          element.appendChild(docLink);\n",
              "        }\n",
              "      </script>\n",
              "    </div>\n",
              "  </div>\n",
              "  "
            ]
          },
          "metadata": {},
          "execution_count": 3
        }
      ]
    },
    {
      "cell_type": "code",
      "source": [
        "df.info()"
      ],
      "metadata": {
        "colab": {
          "base_uri": "https://localhost:8080/"
        },
        "id": "b36yuUAowWf7",
        "outputId": "169b4742-c8e7-406f-e2d2-1dc7e0570095"
      },
      "execution_count": 4,
      "outputs": [
        {
          "output_type": "stream",
          "name": "stdout",
          "text": [
            "<class 'pandas.core.frame.DataFrame'>\n",
            "RangeIndex: 1182 entries, 0 to 1181\n",
            "Data columns (total 7 columns):\n",
            " #   Column          Non-Null Count  Dtype \n",
            "---  ------          --------------  ----- \n",
            " 0   Company         1182 non-null   object\n",
            " 1   Valuation ($B)  1182 non-null   object\n",
            " 2   Date Joined     1182 non-null   object\n",
            " 3   Country         1182 non-null   object\n",
            " 4   City            1182 non-null   object\n",
            " 5   Industry        1182 non-null   object\n",
            " 6   Investors       1164 non-null   object\n",
            "dtypes: object(7)\n",
            "memory usage: 64.8+ KB\n"
          ]
        }
      ]
    },
    {
      "cell_type": "code",
      "source": [
        "df.columns"
      ],
      "metadata": {
        "colab": {
          "base_uri": "https://localhost:8080/"
        },
        "id": "jwcCFNHARTgj",
        "outputId": "a7e33ade-242d-44e7-a8c4-cf97f221b837"
      },
      "execution_count": 5,
      "outputs": [
        {
          "output_type": "execute_result",
          "data": {
            "text/plain": [
              "Index(['Company', 'Valuation ($B)', 'Date Joined', 'Country', 'City ',\n",
              "       'Industry', 'Investors'],\n",
              "      dtype='object')"
            ]
          },
          "metadata": {},
          "execution_count": 5
        }
      ]
    },
    {
      "cell_type": "code",
      "source": [
        "df.Industry.value_counts()"
      ],
      "metadata": {
        "colab": {
          "base_uri": "https://localhost:8080/"
        },
        "id": "-LRNfozSwlfJ",
        "outputId": "6e2db389-b775-4817-b1dc-e7ab14c125ed"
      },
      "execution_count": 6,
      "outputs": [
        {
          "output_type": "execute_result",
          "data": {
            "text/plain": [
              "Fintech                                                               239\n",
              "Internet software & services                                          222\n",
              "E-commerce & direct-to-consumer                                       103\n",
              "Health                                                                 93\n",
              "Artificial intelligence                                                74\n",
              "Supply chain, logistics, & delivery                                    65\n",
              "Other                                                                  65\n",
              "Cybersecurity                                                          58\n",
              "Data management & analytics                                            45\n",
              "Auto & transportation                                                  40\n",
              "Hardware                                                               38\n",
              "Mobile & telecommunications                                            37\n",
              "Edtech                                                                 32\n",
              "Consumer & retail                                                      28\n",
              "Travel                                                                 14\n",
              "Artificial Intelligence                                                11\n",
              "Sequoia Capital China, ING, Alibaba Entrepreneurs Fund                  1\n",
              "Andreessen Horowitz, DST Global, IDG Capital                            1\n",
              "B Capital Group, Monk's Hill Ventures, Dynamic Parcel Distribution      1\n",
              "Vertex Ventures SE Asia, Global Founders Capital, Visa Ventures         1\n",
              "Mundi Ventures, Doqling Capital Partners, Activant Capital              1\n",
              "SingTel Innov8, Alpha JWC Ventures, Golden Gate Ventures                1\n",
              "Dragonfly Captial, Qiming Venture Partners, DST Global                  1\n",
              "Sequoia Capital China, Shunwei Capital Partners, Qualgro                1\n",
              "Tiger Global Management, Tiger Brokers, DCM Ventures                    1\n",
              "500 Global, Rakuten Ventures, Golden Gate Ventures                      1\n",
              "Internet                                                                1\n",
              "Hopu Investment Management, Boyu Capital, DC Thomson Ventures           1\n",
              "Vision Plus Capital, GSR Ventures, ZhenFund                             1\n",
              "GIC. Apis Partners, Insight Partners                                    1\n",
              "Jungle Ventures, Accel, Venture Highway                                 1\n",
              "Kuang-Chi                                                               1\n",
              "Sequoia Capital, Thoma Bravo, Softbank                                  1\n",
              "Temasek, Guggenheim Investments, Qatar Investment Authority             1\n",
              "Name: Industry, dtype: int64"
            ]
          },
          "metadata": {},
          "execution_count": 6
        }
      ]
    },
    {
      "cell_type": "markdown",
      "source": [
        "Nesse ponto podemos observar alguns pontos que podem atrapalhar a análise, como por exemplo:\n",
        "- Colunas com categorias erradas (dtype)\n",
        "- Falta de padronização no nome de dados e colunas (Case sensitive, simbolos '$')\n",
        "- Informações incorretas na coluna 'industry'"
      ],
      "metadata": {
        "id": "PT9YoY5MlzmF"
      }
    },
    {
      "cell_type": "markdown",
      "source": [
        "##Limpeza e preparação dos dados\n"
      ],
      "metadata": {
        "id": "vUMd1z62so-Z"
      }
    },
    {
      "cell_type": "markdown",
      "source": [
        "Ajustando nome e formato das colunas"
      ],
      "metadata": {
        "id": "w1oiFPj--iKD"
      }
    },
    {
      "cell_type": "code",
      "source": [
        "df.rename(lambda x: x.lower().strip().replace(' ', '_'), axis='columns', inplace=True)\n",
        "df.rename(columns = {'valuation_($b)':'valuation'}, inplace = True)"
      ],
      "metadata": {
        "id": "EueUR6K3ysFO"
      },
      "execution_count": 7,
      "outputs": []
    },
    {
      "cell_type": "markdown",
      "source": [
        "Validando as informações em colunas erradas"
      ],
      "metadata": {
        "id": "JdPQN_4o9lBi"
      }
    },
    {
      "cell_type": "code",
      "source": [
        "vc = df['industry'].value_counts()\n",
        "df_ref = df.loc[df['industry'].isin(vc[vc == 1].index)]\n",
        "df_ref"
      ],
      "metadata": {
        "colab": {
          "base_uri": "https://localhost:8080/",
          "height": 918
        },
        "id": "NyI91NbMxYES",
        "outputId": "9b580fe0-2a05-48d8-c32e-4eea711ae67a"
      },
      "execution_count": 8,
      "outputs": [
        {
          "output_type": "execute_result",
          "data": {
            "text/plain": [
              "                         company valuation date_joined      country  \\\n",
              "10                           FTX       $32   7/20/2021      Bahamas   \n",
              "242                    HyalRoute      $3.5   5/26/2020    Singapore   \n",
              "316                  Amber Group        $3   6/21/2021    Hong Kong   \n",
              "345                       Moglix      $2.6   5/17/2021    Singapore   \n",
              "370                Coda Payments      $2.5   4/15/2022    Singapore   \n",
              "479   Advance Intelligence Group        $2   9/23/2021    Singapore   \n",
              "492                         Trax        $2   7/22/2019    Singapore   \n",
              "522                     MEGAZONE     $1.83   8/16/2022  South Korea   \n",
              "860                    Carousell      $1.1   9/15/2021    Singapore   \n",
              "936                        WeLab        $1   11/8/2017    Hong Kong   \n",
              "996                      PatSnap        $1   3/16/2021    Singapore   \n",
              "1023                  Matrixport     $1.05    6/1/2021    Singapore   \n",
              "1028                       Carro        $1   6/14/2021    Singapore   \n",
              "1040                    bolttech        $1    7/1/2021    Singapore   \n",
              "1050                        NIUM        $1   7/13/2021    Singapore   \n",
              "1061                       Cider        $1    9/2/2021    Hong Kong   \n",
              "1073                   Ninja Van        $1   9/27/2021    Singapore   \n",
              "1125                         ONE        $1   12/8/2021    Singapore   \n",
              "\n",
              "                                     city  \\\n",
              "10                                Fintech   \n",
              "242           Mobile & telecommunications   \n",
              "316                               Fintech   \n",
              "345       E-commerce & direct-to-consumer   \n",
              "370                               Fintech   \n",
              "479               Artificial intelligence   \n",
              "492               Artificial intelligence   \n",
              "522                                 Seoul   \n",
              "860       E-commerce & direct-to-consumer   \n",
              "936                               Fintech   \n",
              "996          Internet software & services   \n",
              "1023                              Fintech   \n",
              "1028      E-commerce & direct-to-consumer   \n",
              "1040                              Fintech   \n",
              "1050                              Fintech   \n",
              "1061      E-commerce & direct-to-consumer   \n",
              "1073  Supply chain, logistics, & delivery   \n",
              "1125         Internet software & services   \n",
              "\n",
              "                                               industry  \\\n",
              "10               Sequoia Capital, Thoma Bravo, Softbank   \n",
              "242                                           Kuang-Chi   \n",
              "316   Tiger Global Management, Tiger Brokers, DCM Ve...   \n",
              "345             Jungle Ventures, Accel, Venture Highway   \n",
              "370                GIC. Apis Partners, Insight Partners   \n",
              "479         Vision Plus Capital, GSR Ventures, ZhenFund   \n",
              "492   Hopu Investment Management, Boyu Capital, DC T...   \n",
              "522                                            Internet   \n",
              "860   500 Global, Rakuten Ventures, Golden Gate Vent...   \n",
              "936   Sequoia Capital China, ING, Alibaba Entreprene...   \n",
              "996   Sequoia Capital China, Shunwei Capital Partner...   \n",
              "1023  Dragonfly Captial, Qiming Venture Partners, DS...   \n",
              "1028  SingTel Innov8, Alpha JWC Ventures, Golden Gat...   \n",
              "1040  Mundi Ventures, Doqling Capital Partners, Acti...   \n",
              "1050  Vertex Ventures SE Asia, Global Founders Capit...   \n",
              "1061       Andreessen Horowitz, DST Global, IDG Capital   \n",
              "1073  B Capital Group, Monk's Hill Ventures, Dynamic...   \n",
              "1125  Temasek, Guggenheim Investments, Qatar Investm...   \n",
              "\n",
              "                                              investors  \n",
              "10                                                  NaN  \n",
              "242                                                 NaN  \n",
              "316                                                 NaN  \n",
              "345                                                 NaN  \n",
              "370                                                 NaN  \n",
              "479                                                 NaN  \n",
              "492                                                 NaN  \n",
              "522   Salesforce Ventures, ATP Investment, kt invest...  \n",
              "860                                                 NaN  \n",
              "936                                                 NaN  \n",
              "996                                                 NaN  \n",
              "1023                                                NaN  \n",
              "1028                                                NaN  \n",
              "1040                                                NaN  \n",
              "1050                                                NaN  \n",
              "1061                                                NaN  \n",
              "1073                                                NaN  \n",
              "1125                                                NaN  "
            ],
            "text/html": [
              "\n",
              "  <div id=\"df-5fb0541b-9e42-46f5-b9b2-7b1e1081b7f3\">\n",
              "    <div class=\"colab-df-container\">\n",
              "      <div>\n",
              "<style scoped>\n",
              "    .dataframe tbody tr th:only-of-type {\n",
              "        vertical-align: middle;\n",
              "    }\n",
              "\n",
              "    .dataframe tbody tr th {\n",
              "        vertical-align: top;\n",
              "    }\n",
              "\n",
              "    .dataframe thead th {\n",
              "        text-align: right;\n",
              "    }\n",
              "</style>\n",
              "<table border=\"1\" class=\"dataframe\">\n",
              "  <thead>\n",
              "    <tr style=\"text-align: right;\">\n",
              "      <th></th>\n",
              "      <th>company</th>\n",
              "      <th>valuation</th>\n",
              "      <th>date_joined</th>\n",
              "      <th>country</th>\n",
              "      <th>city</th>\n",
              "      <th>industry</th>\n",
              "      <th>investors</th>\n",
              "    </tr>\n",
              "  </thead>\n",
              "  <tbody>\n",
              "    <tr>\n",
              "      <th>10</th>\n",
              "      <td>FTX</td>\n",
              "      <td>$32</td>\n",
              "      <td>7/20/2021</td>\n",
              "      <td>Bahamas</td>\n",
              "      <td>Fintech</td>\n",
              "      <td>Sequoia Capital, Thoma Bravo, Softbank</td>\n",
              "      <td>NaN</td>\n",
              "    </tr>\n",
              "    <tr>\n",
              "      <th>242</th>\n",
              "      <td>HyalRoute</td>\n",
              "      <td>$3.5</td>\n",
              "      <td>5/26/2020</td>\n",
              "      <td>Singapore</td>\n",
              "      <td>Mobile &amp; telecommunications</td>\n",
              "      <td>Kuang-Chi</td>\n",
              "      <td>NaN</td>\n",
              "    </tr>\n",
              "    <tr>\n",
              "      <th>316</th>\n",
              "      <td>Amber Group</td>\n",
              "      <td>$3</td>\n",
              "      <td>6/21/2021</td>\n",
              "      <td>Hong Kong</td>\n",
              "      <td>Fintech</td>\n",
              "      <td>Tiger Global Management, Tiger Brokers, DCM Ve...</td>\n",
              "      <td>NaN</td>\n",
              "    </tr>\n",
              "    <tr>\n",
              "      <th>345</th>\n",
              "      <td>Moglix</td>\n",
              "      <td>$2.6</td>\n",
              "      <td>5/17/2021</td>\n",
              "      <td>Singapore</td>\n",
              "      <td>E-commerce &amp; direct-to-consumer</td>\n",
              "      <td>Jungle Ventures, Accel, Venture Highway</td>\n",
              "      <td>NaN</td>\n",
              "    </tr>\n",
              "    <tr>\n",
              "      <th>370</th>\n",
              "      <td>Coda Payments</td>\n",
              "      <td>$2.5</td>\n",
              "      <td>4/15/2022</td>\n",
              "      <td>Singapore</td>\n",
              "      <td>Fintech</td>\n",
              "      <td>GIC. Apis Partners, Insight Partners</td>\n",
              "      <td>NaN</td>\n",
              "    </tr>\n",
              "    <tr>\n",
              "      <th>479</th>\n",
              "      <td>Advance Intelligence Group</td>\n",
              "      <td>$2</td>\n",
              "      <td>9/23/2021</td>\n",
              "      <td>Singapore</td>\n",
              "      <td>Artificial intelligence</td>\n",
              "      <td>Vision Plus Capital, GSR Ventures, ZhenFund</td>\n",
              "      <td>NaN</td>\n",
              "    </tr>\n",
              "    <tr>\n",
              "      <th>492</th>\n",
              "      <td>Trax</td>\n",
              "      <td>$2</td>\n",
              "      <td>7/22/2019</td>\n",
              "      <td>Singapore</td>\n",
              "      <td>Artificial intelligence</td>\n",
              "      <td>Hopu Investment Management, Boyu Capital, DC T...</td>\n",
              "      <td>NaN</td>\n",
              "    </tr>\n",
              "    <tr>\n",
              "      <th>522</th>\n",
              "      <td>MEGAZONE</td>\n",
              "      <td>$1.83</td>\n",
              "      <td>8/16/2022</td>\n",
              "      <td>South Korea</td>\n",
              "      <td>Seoul</td>\n",
              "      <td>Internet</td>\n",
              "      <td>Salesforce Ventures, ATP Investment, kt invest...</td>\n",
              "    </tr>\n",
              "    <tr>\n",
              "      <th>860</th>\n",
              "      <td>Carousell</td>\n",
              "      <td>$1.1</td>\n",
              "      <td>9/15/2021</td>\n",
              "      <td>Singapore</td>\n",
              "      <td>E-commerce &amp; direct-to-consumer</td>\n",
              "      <td>500 Global, Rakuten Ventures, Golden Gate Vent...</td>\n",
              "      <td>NaN</td>\n",
              "    </tr>\n",
              "    <tr>\n",
              "      <th>936</th>\n",
              "      <td>WeLab</td>\n",
              "      <td>$1</td>\n",
              "      <td>11/8/2017</td>\n",
              "      <td>Hong Kong</td>\n",
              "      <td>Fintech</td>\n",
              "      <td>Sequoia Capital China, ING, Alibaba Entreprene...</td>\n",
              "      <td>NaN</td>\n",
              "    </tr>\n",
              "    <tr>\n",
              "      <th>996</th>\n",
              "      <td>PatSnap</td>\n",
              "      <td>$1</td>\n",
              "      <td>3/16/2021</td>\n",
              "      <td>Singapore</td>\n",
              "      <td>Internet software &amp; services</td>\n",
              "      <td>Sequoia Capital China, Shunwei Capital Partner...</td>\n",
              "      <td>NaN</td>\n",
              "    </tr>\n",
              "    <tr>\n",
              "      <th>1023</th>\n",
              "      <td>Matrixport</td>\n",
              "      <td>$1.05</td>\n",
              "      <td>6/1/2021</td>\n",
              "      <td>Singapore</td>\n",
              "      <td>Fintech</td>\n",
              "      <td>Dragonfly Captial, Qiming Venture Partners, DS...</td>\n",
              "      <td>NaN</td>\n",
              "    </tr>\n",
              "    <tr>\n",
              "      <th>1028</th>\n",
              "      <td>Carro</td>\n",
              "      <td>$1</td>\n",
              "      <td>6/14/2021</td>\n",
              "      <td>Singapore</td>\n",
              "      <td>E-commerce &amp; direct-to-consumer</td>\n",
              "      <td>SingTel Innov8, Alpha JWC Ventures, Golden Gat...</td>\n",
              "      <td>NaN</td>\n",
              "    </tr>\n",
              "    <tr>\n",
              "      <th>1040</th>\n",
              "      <td>bolttech</td>\n",
              "      <td>$1</td>\n",
              "      <td>7/1/2021</td>\n",
              "      <td>Singapore</td>\n",
              "      <td>Fintech</td>\n",
              "      <td>Mundi Ventures, Doqling Capital Partners, Acti...</td>\n",
              "      <td>NaN</td>\n",
              "    </tr>\n",
              "    <tr>\n",
              "      <th>1050</th>\n",
              "      <td>NIUM</td>\n",
              "      <td>$1</td>\n",
              "      <td>7/13/2021</td>\n",
              "      <td>Singapore</td>\n",
              "      <td>Fintech</td>\n",
              "      <td>Vertex Ventures SE Asia, Global Founders Capit...</td>\n",
              "      <td>NaN</td>\n",
              "    </tr>\n",
              "    <tr>\n",
              "      <th>1061</th>\n",
              "      <td>Cider</td>\n",
              "      <td>$1</td>\n",
              "      <td>9/2/2021</td>\n",
              "      <td>Hong Kong</td>\n",
              "      <td>E-commerce &amp; direct-to-consumer</td>\n",
              "      <td>Andreessen Horowitz, DST Global, IDG Capital</td>\n",
              "      <td>NaN</td>\n",
              "    </tr>\n",
              "    <tr>\n",
              "      <th>1073</th>\n",
              "      <td>Ninja Van</td>\n",
              "      <td>$1</td>\n",
              "      <td>9/27/2021</td>\n",
              "      <td>Singapore</td>\n",
              "      <td>Supply chain, logistics, &amp; delivery</td>\n",
              "      <td>B Capital Group, Monk's Hill Ventures, Dynamic...</td>\n",
              "      <td>NaN</td>\n",
              "    </tr>\n",
              "    <tr>\n",
              "      <th>1125</th>\n",
              "      <td>ONE</td>\n",
              "      <td>$1</td>\n",
              "      <td>12/8/2021</td>\n",
              "      <td>Singapore</td>\n",
              "      <td>Internet software &amp; services</td>\n",
              "      <td>Temasek, Guggenheim Investments, Qatar Investm...</td>\n",
              "      <td>NaN</td>\n",
              "    </tr>\n",
              "  </tbody>\n",
              "</table>\n",
              "</div>\n",
              "      <button class=\"colab-df-convert\" onclick=\"convertToInteractive('df-5fb0541b-9e42-46f5-b9b2-7b1e1081b7f3')\"\n",
              "              title=\"Convert this dataframe to an interactive table.\"\n",
              "              style=\"display:none;\">\n",
              "        \n",
              "  <svg xmlns=\"http://www.w3.org/2000/svg\" height=\"24px\"viewBox=\"0 0 24 24\"\n",
              "       width=\"24px\">\n",
              "    <path d=\"M0 0h24v24H0V0z\" fill=\"none\"/>\n",
              "    <path d=\"M18.56 5.44l.94 2.06.94-2.06 2.06-.94-2.06-.94-.94-2.06-.94 2.06-2.06.94zm-11 1L8.5 8.5l.94-2.06 2.06-.94-2.06-.94L8.5 2.5l-.94 2.06-2.06.94zm10 10l.94 2.06.94-2.06 2.06-.94-2.06-.94-.94-2.06-.94 2.06-2.06.94z\"/><path d=\"M17.41 7.96l-1.37-1.37c-.4-.4-.92-.59-1.43-.59-.52 0-1.04.2-1.43.59L10.3 9.45l-7.72 7.72c-.78.78-.78 2.05 0 2.83L4 21.41c.39.39.9.59 1.41.59.51 0 1.02-.2 1.41-.59l7.78-7.78 2.81-2.81c.8-.78.8-2.07 0-2.86zM5.41 20L4 18.59l7.72-7.72 1.47 1.35L5.41 20z\"/>\n",
              "  </svg>\n",
              "      </button>\n",
              "      \n",
              "  <style>\n",
              "    .colab-df-container {\n",
              "      display:flex;\n",
              "      flex-wrap:wrap;\n",
              "      gap: 12px;\n",
              "    }\n",
              "\n",
              "    .colab-df-convert {\n",
              "      background-color: #E8F0FE;\n",
              "      border: none;\n",
              "      border-radius: 50%;\n",
              "      cursor: pointer;\n",
              "      display: none;\n",
              "      fill: #1967D2;\n",
              "      height: 32px;\n",
              "      padding: 0 0 0 0;\n",
              "      width: 32px;\n",
              "    }\n",
              "\n",
              "    .colab-df-convert:hover {\n",
              "      background-color: #E2EBFA;\n",
              "      box-shadow: 0px 1px 2px rgba(60, 64, 67, 0.3), 0px 1px 3px 1px rgba(60, 64, 67, 0.15);\n",
              "      fill: #174EA6;\n",
              "    }\n",
              "\n",
              "    [theme=dark] .colab-df-convert {\n",
              "      background-color: #3B4455;\n",
              "      fill: #D2E3FC;\n",
              "    }\n",
              "\n",
              "    [theme=dark] .colab-df-convert:hover {\n",
              "      background-color: #434B5C;\n",
              "      box-shadow: 0px 1px 3px 1px rgba(0, 0, 0, 0.15);\n",
              "      filter: drop-shadow(0px 1px 2px rgba(0, 0, 0, 0.3));\n",
              "      fill: #FFFFFF;\n",
              "    }\n",
              "  </style>\n",
              "\n",
              "      <script>\n",
              "        const buttonEl =\n",
              "          document.querySelector('#df-5fb0541b-9e42-46f5-b9b2-7b1e1081b7f3 button.colab-df-convert');\n",
              "        buttonEl.style.display =\n",
              "          google.colab.kernel.accessAllowed ? 'block' : 'none';\n",
              "\n",
              "        async function convertToInteractive(key) {\n",
              "          const element = document.querySelector('#df-5fb0541b-9e42-46f5-b9b2-7b1e1081b7f3');\n",
              "          const dataTable =\n",
              "            await google.colab.kernel.invokeFunction('convertToInteractive',\n",
              "                                                     [key], {});\n",
              "          if (!dataTable) return;\n",
              "\n",
              "          const docLinkHtml = 'Like what you see? Visit the ' +\n",
              "            '<a target=\"_blank\" href=https://colab.research.google.com/notebooks/data_table.ipynb>data table notebook</a>'\n",
              "            + ' to learn more about interactive tables.';\n",
              "          element.innerHTML = '';\n",
              "          dataTable['output_type'] = 'display_data';\n",
              "          await google.colab.output.renderOutput(dataTable, element);\n",
              "          const docLink = document.createElement('div');\n",
              "          docLink.innerHTML = docLinkHtml;\n",
              "          element.appendChild(docLink);\n",
              "        }\n",
              "      </script>\n",
              "    </div>\n",
              "  </div>\n",
              "  "
            ]
          },
          "metadata": {},
          "execution_count": 8
        }
      ]
    },
    {
      "cell_type": "markdown",
      "source": [
        "Retirando uma linha que estava correta"
      ],
      "metadata": {
        "id": "Ty-9kcjg-Zwd"
      }
    },
    {
      "cell_type": "code",
      "source": [
        "df_ref.drop([522], axis=0, inplace=True)"
      ],
      "metadata": {
        "colab": {
          "base_uri": "https://localhost:8080/"
        },
        "id": "hHUyCOMW7s2v",
        "outputId": "5008c0b7-fa06-4314-9380-2aa98288209b"
      },
      "execution_count": 9,
      "outputs": [
        {
          "output_type": "stream",
          "name": "stderr",
          "text": [
            "/usr/local/lib/python3.7/dist-packages/pandas/core/frame.py:4913: SettingWithCopyWarning: \n",
            "A value is trying to be set on a copy of a slice from a DataFrame\n",
            "\n",
            "See the caveats in the documentation: https://pandas.pydata.org/pandas-docs/stable/user_guide/indexing.html#returning-a-view-versus-a-copy\n",
            "  errors=errors,\n"
          ]
        }
      ]
    },
    {
      "cell_type": "code",
      "source": [
        "df.columns"
      ],
      "metadata": {
        "colab": {
          "base_uri": "https://localhost:8080/"
        },
        "id": "Z64jXhWz0P87",
        "outputId": "4177d04d-ffca-4b1a-ba3d-9cd7b291a593"
      },
      "execution_count": 10,
      "outputs": [
        {
          "output_type": "execute_result",
          "data": {
            "text/plain": [
              "Index(['company', 'valuation', 'date_joined', 'country', 'city', 'industry',\n",
              "       'investors'],\n",
              "      dtype='object')"
            ]
          },
          "metadata": {},
          "execution_count": 10
        }
      ]
    },
    {
      "cell_type": "markdown",
      "source": [
        "Fazendo o mesmo para a var (df_ref) "
      ],
      "metadata": {
        "id": "CYFH81Xu-v8W"
      }
    },
    {
      "cell_type": "code",
      "source": [
        "df_ref.rename(lambda x: x.lower().strip().replace(' ', '_'), axis='columns', inplace=True)"
      ],
      "metadata": {
        "colab": {
          "base_uri": "https://localhost:8080/"
        },
        "id": "rVU7uvH20hmD",
        "outputId": "43c21578-36ea-4001-cdb5-de55b8ad55de"
      },
      "execution_count": 11,
      "outputs": [
        {
          "output_type": "stream",
          "name": "stderr",
          "text": [
            "/usr/local/lib/python3.7/dist-packages/pandas/core/frame.py:5047: SettingWithCopyWarning: \n",
            "A value is trying to be set on a copy of a slice from a DataFrame\n",
            "\n",
            "See the caveats in the documentation: https://pandas.pydata.org/pandas-docs/stable/user_guide/indexing.html#returning-a-view-versus-a-copy\n",
            "  errors=errors,\n"
          ]
        }
      ]
    },
    {
      "cell_type": "markdown",
      "source": [
        "Invertendo os valores para as colunas certas"
      ],
      "metadata": {
        "id": "ffEfncCq-4GJ"
      }
    },
    {
      "cell_type": "code",
      "source": [
        "df.loc[df_ref.index, ['industry']] = df_ref[['city']].values\n",
        "df.loc[df_ref.index, ['city']] = df_ref[['investors']].values\n",
        "df.loc[df_ref.index, ['investors']] = df_ref[['industry']].values"
      ],
      "metadata": {
        "id": "F3XW42ON2cZR"
      },
      "execution_count": 12,
      "outputs": []
    },
    {
      "cell_type": "code",
      "source": [
        "df.loc[df_ref.index]"
      ],
      "metadata": {
        "colab": {
          "base_uri": "https://localhost:8080/",
          "height": 583
        },
        "id": "txJSPtDO2gFO",
        "outputId": "b0340ff3-4d87-4403-951d-4f73778a5ba1"
      },
      "execution_count": 13,
      "outputs": [
        {
          "output_type": "execute_result",
          "data": {
            "text/plain": [
              "                         company valuation date_joined    country city  \\\n",
              "10                           FTX       $32   7/20/2021    Bahamas  NaN   \n",
              "242                    HyalRoute      $3.5   5/26/2020  Singapore  NaN   \n",
              "316                  Amber Group        $3   6/21/2021  Hong Kong  NaN   \n",
              "345                       Moglix      $2.6   5/17/2021  Singapore  NaN   \n",
              "370                Coda Payments      $2.5   4/15/2022  Singapore  NaN   \n",
              "479   Advance Intelligence Group        $2   9/23/2021  Singapore  NaN   \n",
              "492                         Trax        $2   7/22/2019  Singapore  NaN   \n",
              "860                    Carousell      $1.1   9/15/2021  Singapore  NaN   \n",
              "936                        WeLab        $1   11/8/2017  Hong Kong  NaN   \n",
              "996                      PatSnap        $1   3/16/2021  Singapore  NaN   \n",
              "1023                  Matrixport     $1.05    6/1/2021  Singapore  NaN   \n",
              "1028                       Carro        $1   6/14/2021  Singapore  NaN   \n",
              "1040                    bolttech        $1    7/1/2021  Singapore  NaN   \n",
              "1050                        NIUM        $1   7/13/2021  Singapore  NaN   \n",
              "1061                       Cider        $1    9/2/2021  Hong Kong  NaN   \n",
              "1073                   Ninja Van        $1   9/27/2021  Singapore  NaN   \n",
              "1125                         ONE        $1   12/8/2021  Singapore  NaN   \n",
              "\n",
              "                                 industry  \\\n",
              "10                                Fintech   \n",
              "242           Mobile & telecommunications   \n",
              "316                               Fintech   \n",
              "345       E-commerce & direct-to-consumer   \n",
              "370                               Fintech   \n",
              "479               Artificial intelligence   \n",
              "492               Artificial intelligence   \n",
              "860       E-commerce & direct-to-consumer   \n",
              "936                               Fintech   \n",
              "996          Internet software & services   \n",
              "1023                              Fintech   \n",
              "1028      E-commerce & direct-to-consumer   \n",
              "1040                              Fintech   \n",
              "1050                              Fintech   \n",
              "1061      E-commerce & direct-to-consumer   \n",
              "1073  Supply chain, logistics, & delivery   \n",
              "1125         Internet software & services   \n",
              "\n",
              "                                              investors  \n",
              "10               Sequoia Capital, Thoma Bravo, Softbank  \n",
              "242                                           Kuang-Chi  \n",
              "316   Tiger Global Management, Tiger Brokers, DCM Ve...  \n",
              "345             Jungle Ventures, Accel, Venture Highway  \n",
              "370                GIC. Apis Partners, Insight Partners  \n",
              "479         Vision Plus Capital, GSR Ventures, ZhenFund  \n",
              "492   Hopu Investment Management, Boyu Capital, DC T...  \n",
              "860   500 Global, Rakuten Ventures, Golden Gate Vent...  \n",
              "936   Sequoia Capital China, ING, Alibaba Entreprene...  \n",
              "996   Sequoia Capital China, Shunwei Capital Partner...  \n",
              "1023  Dragonfly Captial, Qiming Venture Partners, DS...  \n",
              "1028  SingTel Innov8, Alpha JWC Ventures, Golden Gat...  \n",
              "1040  Mundi Ventures, Doqling Capital Partners, Acti...  \n",
              "1050  Vertex Ventures SE Asia, Global Founders Capit...  \n",
              "1061       Andreessen Horowitz, DST Global, IDG Capital  \n",
              "1073  B Capital Group, Monk's Hill Ventures, Dynamic...  \n",
              "1125  Temasek, Guggenheim Investments, Qatar Investm...  "
            ],
            "text/html": [
              "\n",
              "  <div id=\"df-6ee953ca-023b-41d2-a553-9fd032aaa61d\">\n",
              "    <div class=\"colab-df-container\">\n",
              "      <div>\n",
              "<style scoped>\n",
              "    .dataframe tbody tr th:only-of-type {\n",
              "        vertical-align: middle;\n",
              "    }\n",
              "\n",
              "    .dataframe tbody tr th {\n",
              "        vertical-align: top;\n",
              "    }\n",
              "\n",
              "    .dataframe thead th {\n",
              "        text-align: right;\n",
              "    }\n",
              "</style>\n",
              "<table border=\"1\" class=\"dataframe\">\n",
              "  <thead>\n",
              "    <tr style=\"text-align: right;\">\n",
              "      <th></th>\n",
              "      <th>company</th>\n",
              "      <th>valuation</th>\n",
              "      <th>date_joined</th>\n",
              "      <th>country</th>\n",
              "      <th>city</th>\n",
              "      <th>industry</th>\n",
              "      <th>investors</th>\n",
              "    </tr>\n",
              "  </thead>\n",
              "  <tbody>\n",
              "    <tr>\n",
              "      <th>10</th>\n",
              "      <td>FTX</td>\n",
              "      <td>$32</td>\n",
              "      <td>7/20/2021</td>\n",
              "      <td>Bahamas</td>\n",
              "      <td>NaN</td>\n",
              "      <td>Fintech</td>\n",
              "      <td>Sequoia Capital, Thoma Bravo, Softbank</td>\n",
              "    </tr>\n",
              "    <tr>\n",
              "      <th>242</th>\n",
              "      <td>HyalRoute</td>\n",
              "      <td>$3.5</td>\n",
              "      <td>5/26/2020</td>\n",
              "      <td>Singapore</td>\n",
              "      <td>NaN</td>\n",
              "      <td>Mobile &amp; telecommunications</td>\n",
              "      <td>Kuang-Chi</td>\n",
              "    </tr>\n",
              "    <tr>\n",
              "      <th>316</th>\n",
              "      <td>Amber Group</td>\n",
              "      <td>$3</td>\n",
              "      <td>6/21/2021</td>\n",
              "      <td>Hong Kong</td>\n",
              "      <td>NaN</td>\n",
              "      <td>Fintech</td>\n",
              "      <td>Tiger Global Management, Tiger Brokers, DCM Ve...</td>\n",
              "    </tr>\n",
              "    <tr>\n",
              "      <th>345</th>\n",
              "      <td>Moglix</td>\n",
              "      <td>$2.6</td>\n",
              "      <td>5/17/2021</td>\n",
              "      <td>Singapore</td>\n",
              "      <td>NaN</td>\n",
              "      <td>E-commerce &amp; direct-to-consumer</td>\n",
              "      <td>Jungle Ventures, Accel, Venture Highway</td>\n",
              "    </tr>\n",
              "    <tr>\n",
              "      <th>370</th>\n",
              "      <td>Coda Payments</td>\n",
              "      <td>$2.5</td>\n",
              "      <td>4/15/2022</td>\n",
              "      <td>Singapore</td>\n",
              "      <td>NaN</td>\n",
              "      <td>Fintech</td>\n",
              "      <td>GIC. Apis Partners, Insight Partners</td>\n",
              "    </tr>\n",
              "    <tr>\n",
              "      <th>479</th>\n",
              "      <td>Advance Intelligence Group</td>\n",
              "      <td>$2</td>\n",
              "      <td>9/23/2021</td>\n",
              "      <td>Singapore</td>\n",
              "      <td>NaN</td>\n",
              "      <td>Artificial intelligence</td>\n",
              "      <td>Vision Plus Capital, GSR Ventures, ZhenFund</td>\n",
              "    </tr>\n",
              "    <tr>\n",
              "      <th>492</th>\n",
              "      <td>Trax</td>\n",
              "      <td>$2</td>\n",
              "      <td>7/22/2019</td>\n",
              "      <td>Singapore</td>\n",
              "      <td>NaN</td>\n",
              "      <td>Artificial intelligence</td>\n",
              "      <td>Hopu Investment Management, Boyu Capital, DC T...</td>\n",
              "    </tr>\n",
              "    <tr>\n",
              "      <th>860</th>\n",
              "      <td>Carousell</td>\n",
              "      <td>$1.1</td>\n",
              "      <td>9/15/2021</td>\n",
              "      <td>Singapore</td>\n",
              "      <td>NaN</td>\n",
              "      <td>E-commerce &amp; direct-to-consumer</td>\n",
              "      <td>500 Global, Rakuten Ventures, Golden Gate Vent...</td>\n",
              "    </tr>\n",
              "    <tr>\n",
              "      <th>936</th>\n",
              "      <td>WeLab</td>\n",
              "      <td>$1</td>\n",
              "      <td>11/8/2017</td>\n",
              "      <td>Hong Kong</td>\n",
              "      <td>NaN</td>\n",
              "      <td>Fintech</td>\n",
              "      <td>Sequoia Capital China, ING, Alibaba Entreprene...</td>\n",
              "    </tr>\n",
              "    <tr>\n",
              "      <th>996</th>\n",
              "      <td>PatSnap</td>\n",
              "      <td>$1</td>\n",
              "      <td>3/16/2021</td>\n",
              "      <td>Singapore</td>\n",
              "      <td>NaN</td>\n",
              "      <td>Internet software &amp; services</td>\n",
              "      <td>Sequoia Capital China, Shunwei Capital Partner...</td>\n",
              "    </tr>\n",
              "    <tr>\n",
              "      <th>1023</th>\n",
              "      <td>Matrixport</td>\n",
              "      <td>$1.05</td>\n",
              "      <td>6/1/2021</td>\n",
              "      <td>Singapore</td>\n",
              "      <td>NaN</td>\n",
              "      <td>Fintech</td>\n",
              "      <td>Dragonfly Captial, Qiming Venture Partners, DS...</td>\n",
              "    </tr>\n",
              "    <tr>\n",
              "      <th>1028</th>\n",
              "      <td>Carro</td>\n",
              "      <td>$1</td>\n",
              "      <td>6/14/2021</td>\n",
              "      <td>Singapore</td>\n",
              "      <td>NaN</td>\n",
              "      <td>E-commerce &amp; direct-to-consumer</td>\n",
              "      <td>SingTel Innov8, Alpha JWC Ventures, Golden Gat...</td>\n",
              "    </tr>\n",
              "    <tr>\n",
              "      <th>1040</th>\n",
              "      <td>bolttech</td>\n",
              "      <td>$1</td>\n",
              "      <td>7/1/2021</td>\n",
              "      <td>Singapore</td>\n",
              "      <td>NaN</td>\n",
              "      <td>Fintech</td>\n",
              "      <td>Mundi Ventures, Doqling Capital Partners, Acti...</td>\n",
              "    </tr>\n",
              "    <tr>\n",
              "      <th>1050</th>\n",
              "      <td>NIUM</td>\n",
              "      <td>$1</td>\n",
              "      <td>7/13/2021</td>\n",
              "      <td>Singapore</td>\n",
              "      <td>NaN</td>\n",
              "      <td>Fintech</td>\n",
              "      <td>Vertex Ventures SE Asia, Global Founders Capit...</td>\n",
              "    </tr>\n",
              "    <tr>\n",
              "      <th>1061</th>\n",
              "      <td>Cider</td>\n",
              "      <td>$1</td>\n",
              "      <td>9/2/2021</td>\n",
              "      <td>Hong Kong</td>\n",
              "      <td>NaN</td>\n",
              "      <td>E-commerce &amp; direct-to-consumer</td>\n",
              "      <td>Andreessen Horowitz, DST Global, IDG Capital</td>\n",
              "    </tr>\n",
              "    <tr>\n",
              "      <th>1073</th>\n",
              "      <td>Ninja Van</td>\n",
              "      <td>$1</td>\n",
              "      <td>9/27/2021</td>\n",
              "      <td>Singapore</td>\n",
              "      <td>NaN</td>\n",
              "      <td>Supply chain, logistics, &amp; delivery</td>\n",
              "      <td>B Capital Group, Monk's Hill Ventures, Dynamic...</td>\n",
              "    </tr>\n",
              "    <tr>\n",
              "      <th>1125</th>\n",
              "      <td>ONE</td>\n",
              "      <td>$1</td>\n",
              "      <td>12/8/2021</td>\n",
              "      <td>Singapore</td>\n",
              "      <td>NaN</td>\n",
              "      <td>Internet software &amp; services</td>\n",
              "      <td>Temasek, Guggenheim Investments, Qatar Investm...</td>\n",
              "    </tr>\n",
              "  </tbody>\n",
              "</table>\n",
              "</div>\n",
              "      <button class=\"colab-df-convert\" onclick=\"convertToInteractive('df-6ee953ca-023b-41d2-a553-9fd032aaa61d')\"\n",
              "              title=\"Convert this dataframe to an interactive table.\"\n",
              "              style=\"display:none;\">\n",
              "        \n",
              "  <svg xmlns=\"http://www.w3.org/2000/svg\" height=\"24px\"viewBox=\"0 0 24 24\"\n",
              "       width=\"24px\">\n",
              "    <path d=\"M0 0h24v24H0V0z\" fill=\"none\"/>\n",
              "    <path d=\"M18.56 5.44l.94 2.06.94-2.06 2.06-.94-2.06-.94-.94-2.06-.94 2.06-2.06.94zm-11 1L8.5 8.5l.94-2.06 2.06-.94-2.06-.94L8.5 2.5l-.94 2.06-2.06.94zm10 10l.94 2.06.94-2.06 2.06-.94-2.06-.94-.94-2.06-.94 2.06-2.06.94z\"/><path d=\"M17.41 7.96l-1.37-1.37c-.4-.4-.92-.59-1.43-.59-.52 0-1.04.2-1.43.59L10.3 9.45l-7.72 7.72c-.78.78-.78 2.05 0 2.83L4 21.41c.39.39.9.59 1.41.59.51 0 1.02-.2 1.41-.59l7.78-7.78 2.81-2.81c.8-.78.8-2.07 0-2.86zM5.41 20L4 18.59l7.72-7.72 1.47 1.35L5.41 20z\"/>\n",
              "  </svg>\n",
              "      </button>\n",
              "      \n",
              "  <style>\n",
              "    .colab-df-container {\n",
              "      display:flex;\n",
              "      flex-wrap:wrap;\n",
              "      gap: 12px;\n",
              "    }\n",
              "\n",
              "    .colab-df-convert {\n",
              "      background-color: #E8F0FE;\n",
              "      border: none;\n",
              "      border-radius: 50%;\n",
              "      cursor: pointer;\n",
              "      display: none;\n",
              "      fill: #1967D2;\n",
              "      height: 32px;\n",
              "      padding: 0 0 0 0;\n",
              "      width: 32px;\n",
              "    }\n",
              "\n",
              "    .colab-df-convert:hover {\n",
              "      background-color: #E2EBFA;\n",
              "      box-shadow: 0px 1px 2px rgba(60, 64, 67, 0.3), 0px 1px 3px 1px rgba(60, 64, 67, 0.15);\n",
              "      fill: #174EA6;\n",
              "    }\n",
              "\n",
              "    [theme=dark] .colab-df-convert {\n",
              "      background-color: #3B4455;\n",
              "      fill: #D2E3FC;\n",
              "    }\n",
              "\n",
              "    [theme=dark] .colab-df-convert:hover {\n",
              "      background-color: #434B5C;\n",
              "      box-shadow: 0px 1px 3px 1px rgba(0, 0, 0, 0.15);\n",
              "      filter: drop-shadow(0px 1px 2px rgba(0, 0, 0, 0.3));\n",
              "      fill: #FFFFFF;\n",
              "    }\n",
              "  </style>\n",
              "\n",
              "      <script>\n",
              "        const buttonEl =\n",
              "          document.querySelector('#df-6ee953ca-023b-41d2-a553-9fd032aaa61d button.colab-df-convert');\n",
              "        buttonEl.style.display =\n",
              "          google.colab.kernel.accessAllowed ? 'block' : 'none';\n",
              "\n",
              "        async function convertToInteractive(key) {\n",
              "          const element = document.querySelector('#df-6ee953ca-023b-41d2-a553-9fd032aaa61d');\n",
              "          const dataTable =\n",
              "            await google.colab.kernel.invokeFunction('convertToInteractive',\n",
              "                                                     [key], {});\n",
              "          if (!dataTable) return;\n",
              "\n",
              "          const docLinkHtml = 'Like what you see? Visit the ' +\n",
              "            '<a target=\"_blank\" href=https://colab.research.google.com/notebooks/data_table.ipynb>data table notebook</a>'\n",
              "            + ' to learn more about interactive tables.';\n",
              "          element.innerHTML = '';\n",
              "          dataTable['output_type'] = 'display_data';\n",
              "          await google.colab.output.renderOutput(dataTable, element);\n",
              "          const docLink = document.createElement('div');\n",
              "          docLink.innerHTML = docLinkHtml;\n",
              "          element.appendChild(docLink);\n",
              "        }\n",
              "      </script>\n",
              "    </div>\n",
              "  </div>\n",
              "  "
            ]
          },
          "metadata": {},
          "execution_count": 13
        }
      ]
    },
    {
      "cell_type": "markdown",
      "source": [
        "Checando duplicatas"
      ],
      "metadata": {
        "id": "1Zu6JxXzC6yr"
      }
    },
    {
      "cell_type": "code",
      "source": [
        "df['company'].value_counts()"
      ],
      "metadata": {
        "colab": {
          "base_uri": "https://localhost:8080/"
        },
        "id": "6e3gEaQh9JZr",
        "outputId": "2794ad39-7140-4dbb-9d6e-46ccf2e940d3"
      },
      "execution_count": 14,
      "outputs": [
        {
          "output_type": "execute_result",
          "data": {
            "text/plain": [
              "Fabric                 2\n",
              "Bolt                   2\n",
              "Branch                 2\n",
              "ByteDance              1\n",
              "Pilot.com              1\n",
              "                      ..\n",
              "Skydance Media         1\n",
              "Motive                 1\n",
              "Uptake                 1\n",
              "Voodoo                 1\n",
              "Unstoppable Domains    1\n",
              "Name: company, Length: 1179, dtype: int64"
            ]
          },
          "metadata": {},
          "execution_count": 14
        }
      ]
    },
    {
      "cell_type": "markdown",
      "source": [
        "Checando se as duplicatas são de fato duplicatas"
      ],
      "metadata": {
        "id": "FVqz3Pr1_CNB"
      }
    },
    {
      "cell_type": "code",
      "source": [
        "df[df['company'] == 'Branch']\n",
        "# O mesmo para Bolt e Fabric\n"
      ],
      "metadata": {
        "colab": {
          "base_uri": "https://localhost:8080/",
          "height": 112
        },
        "id": "jPomKX-19Z24",
        "outputId": "383a8b6e-2cbe-481b-9aad-78db5c7d8f7c"
      },
      "execution_count": 15,
      "outputs": [
        {
          "output_type": "execute_result",
          "data": {
            "text/plain": [
              "    company valuation date_joined        country          city  \\\n",
              "212  Branch        $4   9/10/2018  United States  Redwood City   \n",
              "897  Branch     $1.05    3/1/2022  United States      Columbus   \n",
              "\n",
              "                        industry  \\\n",
              "212  Mobile & telecommunications   \n",
              "897                      Fintech   \n",
              "\n",
              "                                            investors  \n",
              "212  New Enterprise Associates, Pear, Cowboy Ventures  \n",
              "897   American Family Ventures, Greycroft, SignalFire  "
            ],
            "text/html": [
              "\n",
              "  <div id=\"df-937444f7-4017-4358-b70a-c3161f95abd0\">\n",
              "    <div class=\"colab-df-container\">\n",
              "      <div>\n",
              "<style scoped>\n",
              "    .dataframe tbody tr th:only-of-type {\n",
              "        vertical-align: middle;\n",
              "    }\n",
              "\n",
              "    .dataframe tbody tr th {\n",
              "        vertical-align: top;\n",
              "    }\n",
              "\n",
              "    .dataframe thead th {\n",
              "        text-align: right;\n",
              "    }\n",
              "</style>\n",
              "<table border=\"1\" class=\"dataframe\">\n",
              "  <thead>\n",
              "    <tr style=\"text-align: right;\">\n",
              "      <th></th>\n",
              "      <th>company</th>\n",
              "      <th>valuation</th>\n",
              "      <th>date_joined</th>\n",
              "      <th>country</th>\n",
              "      <th>city</th>\n",
              "      <th>industry</th>\n",
              "      <th>investors</th>\n",
              "    </tr>\n",
              "  </thead>\n",
              "  <tbody>\n",
              "    <tr>\n",
              "      <th>212</th>\n",
              "      <td>Branch</td>\n",
              "      <td>$4</td>\n",
              "      <td>9/10/2018</td>\n",
              "      <td>United States</td>\n",
              "      <td>Redwood City</td>\n",
              "      <td>Mobile &amp; telecommunications</td>\n",
              "      <td>New Enterprise Associates, Pear, Cowboy Ventures</td>\n",
              "    </tr>\n",
              "    <tr>\n",
              "      <th>897</th>\n",
              "      <td>Branch</td>\n",
              "      <td>$1.05</td>\n",
              "      <td>3/1/2022</td>\n",
              "      <td>United States</td>\n",
              "      <td>Columbus</td>\n",
              "      <td>Fintech</td>\n",
              "      <td>American Family Ventures, Greycroft, SignalFire</td>\n",
              "    </tr>\n",
              "  </tbody>\n",
              "</table>\n",
              "</div>\n",
              "      <button class=\"colab-df-convert\" onclick=\"convertToInteractive('df-937444f7-4017-4358-b70a-c3161f95abd0')\"\n",
              "              title=\"Convert this dataframe to an interactive table.\"\n",
              "              style=\"display:none;\">\n",
              "        \n",
              "  <svg xmlns=\"http://www.w3.org/2000/svg\" height=\"24px\"viewBox=\"0 0 24 24\"\n",
              "       width=\"24px\">\n",
              "    <path d=\"M0 0h24v24H0V0z\" fill=\"none\"/>\n",
              "    <path d=\"M18.56 5.44l.94 2.06.94-2.06 2.06-.94-2.06-.94-.94-2.06-.94 2.06-2.06.94zm-11 1L8.5 8.5l.94-2.06 2.06-.94-2.06-.94L8.5 2.5l-.94 2.06-2.06.94zm10 10l.94 2.06.94-2.06 2.06-.94-2.06-.94-.94-2.06-.94 2.06-2.06.94z\"/><path d=\"M17.41 7.96l-1.37-1.37c-.4-.4-.92-.59-1.43-.59-.52 0-1.04.2-1.43.59L10.3 9.45l-7.72 7.72c-.78.78-.78 2.05 0 2.83L4 21.41c.39.39.9.59 1.41.59.51 0 1.02-.2 1.41-.59l7.78-7.78 2.81-2.81c.8-.78.8-2.07 0-2.86zM5.41 20L4 18.59l7.72-7.72 1.47 1.35L5.41 20z\"/>\n",
              "  </svg>\n",
              "      </button>\n",
              "      \n",
              "  <style>\n",
              "    .colab-df-container {\n",
              "      display:flex;\n",
              "      flex-wrap:wrap;\n",
              "      gap: 12px;\n",
              "    }\n",
              "\n",
              "    .colab-df-convert {\n",
              "      background-color: #E8F0FE;\n",
              "      border: none;\n",
              "      border-radius: 50%;\n",
              "      cursor: pointer;\n",
              "      display: none;\n",
              "      fill: #1967D2;\n",
              "      height: 32px;\n",
              "      padding: 0 0 0 0;\n",
              "      width: 32px;\n",
              "    }\n",
              "\n",
              "    .colab-df-convert:hover {\n",
              "      background-color: #E2EBFA;\n",
              "      box-shadow: 0px 1px 2px rgba(60, 64, 67, 0.3), 0px 1px 3px 1px rgba(60, 64, 67, 0.15);\n",
              "      fill: #174EA6;\n",
              "    }\n",
              "\n",
              "    [theme=dark] .colab-df-convert {\n",
              "      background-color: #3B4455;\n",
              "      fill: #D2E3FC;\n",
              "    }\n",
              "\n",
              "    [theme=dark] .colab-df-convert:hover {\n",
              "      background-color: #434B5C;\n",
              "      box-shadow: 0px 1px 3px 1px rgba(0, 0, 0, 0.15);\n",
              "      filter: drop-shadow(0px 1px 2px rgba(0, 0, 0, 0.3));\n",
              "      fill: #FFFFFF;\n",
              "    }\n",
              "  </style>\n",
              "\n",
              "      <script>\n",
              "        const buttonEl =\n",
              "          document.querySelector('#df-937444f7-4017-4358-b70a-c3161f95abd0 button.colab-df-convert');\n",
              "        buttonEl.style.display =\n",
              "          google.colab.kernel.accessAllowed ? 'block' : 'none';\n",
              "\n",
              "        async function convertToInteractive(key) {\n",
              "          const element = document.querySelector('#df-937444f7-4017-4358-b70a-c3161f95abd0');\n",
              "          const dataTable =\n",
              "            await google.colab.kernel.invokeFunction('convertToInteractive',\n",
              "                                                     [key], {});\n",
              "          if (!dataTable) return;\n",
              "\n",
              "          const docLinkHtml = 'Like what you see? Visit the ' +\n",
              "            '<a target=\"_blank\" href=https://colab.research.google.com/notebooks/data_table.ipynb>data table notebook</a>'\n",
              "            + ' to learn more about interactive tables.';\n",
              "          element.innerHTML = '';\n",
              "          dataTable['output_type'] = 'display_data';\n",
              "          await google.colab.output.renderOutput(dataTable, element);\n",
              "          const docLink = document.createElement('div');\n",
              "          docLink.innerHTML = docLinkHtml;\n",
              "          element.appendChild(docLink);\n",
              "        }\n",
              "      </script>\n",
              "    </div>\n",
              "  </div>\n",
              "  "
            ]
          },
          "metadata": {},
          "execution_count": 15
        }
      ]
    },
    {
      "cell_type": "code",
      "source": [
        "df.info()"
      ],
      "metadata": {
        "colab": {
          "base_uri": "https://localhost:8080/"
        },
        "id": "oLaiIcdN3WiE",
        "outputId": "40fca56c-6cae-4826-a6b8-d9c2b9c1c782"
      },
      "execution_count": 16,
      "outputs": [
        {
          "output_type": "stream",
          "name": "stdout",
          "text": [
            "<class 'pandas.core.frame.DataFrame'>\n",
            "RangeIndex: 1182 entries, 0 to 1181\n",
            "Data columns (total 7 columns):\n",
            " #   Column       Non-Null Count  Dtype \n",
            "---  ------       --------------  ----- \n",
            " 0   company      1182 non-null   object\n",
            " 1   valuation    1182 non-null   object\n",
            " 2   date_joined  1182 non-null   object\n",
            " 3   country      1182 non-null   object\n",
            " 4   city         1165 non-null   object\n",
            " 5   industry     1182 non-null   object\n",
            " 6   investors    1181 non-null   object\n",
            "dtypes: object(7)\n",
            "memory usage: 64.8+ KB\n"
          ]
        }
      ]
    },
    {
      "cell_type": "markdown",
      "source": [
        "Mudando o dtype das colunas e separando a coluna investor por investidores"
      ],
      "metadata": {
        "id": "3LYBcEEg_gB3"
      }
    },
    {
      "cell_type": "code",
      "source": [
        "df['date_joined'] = df['date_joined'].astype('datetime64')\n",
        "df['valuation'] = df['valuation'].str.replace('$', '', regex=True) \n",
        "df['valuation'] = df['valuation'].astype('float')\n",
        "df = pd.concat([df, df['investors'].str.split(', ', expand=True)], axis=1)\n",
        "\n",
        "df = df.rename(columns =\n",
        "               {0: 'investor1',\n",
        "                1: 'investor2',\n",
        "                2: 'investor3',\n",
        "                3: 'investor4'})\n"
      ],
      "metadata": {
        "id": "J9qT8YvB3oUE"
      },
      "execution_count": 17,
      "outputs": []
    },
    {
      "cell_type": "code",
      "source": [
        "df.info()"
      ],
      "metadata": {
        "colab": {
          "base_uri": "https://localhost:8080/"
        },
        "id": "0rDti-uK8U9a",
        "outputId": "2b1ac80c-a8b2-4a69-f2f1-feb7cfb8d916"
      },
      "execution_count": 18,
      "outputs": [
        {
          "output_type": "stream",
          "name": "stdout",
          "text": [
            "<class 'pandas.core.frame.DataFrame'>\n",
            "RangeIndex: 1182 entries, 0 to 1181\n",
            "Data columns (total 11 columns):\n",
            " #   Column       Non-Null Count  Dtype         \n",
            "---  ------       --------------  -----         \n",
            " 0   company      1182 non-null   object        \n",
            " 1   valuation    1182 non-null   float64       \n",
            " 2   date_joined  1182 non-null   datetime64[ns]\n",
            " 3   country      1182 non-null   object        \n",
            " 4   city         1165 non-null   object        \n",
            " 5   industry     1182 non-null   object        \n",
            " 6   investors    1181 non-null   object        \n",
            " 7   investor1    1181 non-null   object        \n",
            " 8   investor2    1127 non-null   object        \n",
            " 9   investor3    1032 non-null   object        \n",
            " 10  investor4    6 non-null      object        \n",
            "dtypes: datetime64[ns](1), float64(1), object(9)\n",
            "memory usage: 101.7+ KB\n"
          ]
        }
      ]
    },
    {
      "cell_type": "markdown",
      "source": [
        "Padronizando a coluna industry"
      ],
      "metadata": {
        "id": "IITnf7jEDo4a"
      }
    },
    {
      "cell_type": "code",
      "source": [
        "df.industry = df.industry.replace('Artificial Intelligence', 'Artificial intelligence')\n",
        "df.industry = df.industry.replace('Internet Software Services', 'Internet software & services')"
      ],
      "metadata": {
        "id": "QryfVSLD5h4m"
      },
      "execution_count": 19,
      "outputs": []
    },
    {
      "cell_type": "code",
      "source": [
        "df.industry.unique()"
      ],
      "metadata": {
        "colab": {
          "base_uri": "https://localhost:8080/"
        },
        "id": "S8UBRmrh5wt_",
        "outputId": "8918a6c4-2242-4ec6-81a4-0b57265892eb"
      },
      "execution_count": 20,
      "outputs": [
        {
          "output_type": "execute_result",
          "data": {
            "text/plain": [
              "array(['Artificial intelligence', 'Other',\n",
              "       'E-commerce & direct-to-consumer', 'Fintech',\n",
              "       'Internet software & services',\n",
              "       'Supply chain, logistics, & delivery',\n",
              "       'Data management & analytics', 'Edtech', 'Hardware',\n",
              "       'Consumer & retail', 'Health', 'Auto & transportation',\n",
              "       'Cybersecurity', 'Mobile & telecommunications', 'Travel',\n",
              "       'Internet'], dtype=object)"
            ]
          },
          "metadata": {},
          "execution_count": 20
        }
      ]
    },
    {
      "cell_type": "code",
      "source": [
        "df.head()"
      ],
      "metadata": {
        "colab": {
          "base_uri": "https://localhost:8080/",
          "height": 354
        },
        "id": "IJoVKdcV_5hT",
        "outputId": "9876bcc9-3921-4030-fb15-8340ceab5a17"
      },
      "execution_count": 21,
      "outputs": [
        {
          "output_type": "execute_result",
          "data": {
            "text/plain": [
              "     company  valuation date_joined        country           city  \\\n",
              "0  ByteDance      140.0  2017-04-07          China        Beijing   \n",
              "1     SpaceX      127.0  2012-12-01  United States      Hawthorne   \n",
              "2      SHEIN      100.0  2018-07-03          China       Shenzhen   \n",
              "3     Stripe       95.0  2014-01-23  United States  San Francisco   \n",
              "4      Canva       40.0  2018-01-08      Australia    Surry Hills   \n",
              "\n",
              "                          industry  \\\n",
              "0          Artificial intelligence   \n",
              "1                            Other   \n",
              "2  E-commerce & direct-to-consumer   \n",
              "3                          Fintech   \n",
              "4     Internet software & services   \n",
              "\n",
              "                                           investors                investor1  \\\n",
              "0  Sequoia Capital China, SIG Asia Investments, S...    Sequoia Capital China   \n",
              "1  Founders Fund, Draper Fisher Jurvetson, Rothen...            Founders Fund   \n",
              "2  Tiger Global Management, Sequoia Capital China...  Tiger Global Management   \n",
              "3        Khosla Ventures, LowercaseCapital, capitalG          Khosla Ventures   \n",
              "4  Sequoia Capital China, Blackbird Ventures, Mat...    Sequoia Capital China   \n",
              "\n",
              "                 investor2                 investor3       investor4  \n",
              "0     SIG Asia Investments                Sina Weibo  Softbank Group  \n",
              "1  Draper Fisher Jurvetson       Rothenberg Ventures            None  \n",
              "2    Sequoia Capital China  Shunwei Capital Partners            None  \n",
              "3         LowercaseCapital                  capitalG            None  \n",
              "4       Blackbird Ventures           Matrix Partners            None  "
            ],
            "text/html": [
              "\n",
              "  <div id=\"df-062c6222-56be-4931-99cc-676252b3aa66\">\n",
              "    <div class=\"colab-df-container\">\n",
              "      <div>\n",
              "<style scoped>\n",
              "    .dataframe tbody tr th:only-of-type {\n",
              "        vertical-align: middle;\n",
              "    }\n",
              "\n",
              "    .dataframe tbody tr th {\n",
              "        vertical-align: top;\n",
              "    }\n",
              "\n",
              "    .dataframe thead th {\n",
              "        text-align: right;\n",
              "    }\n",
              "</style>\n",
              "<table border=\"1\" class=\"dataframe\">\n",
              "  <thead>\n",
              "    <tr style=\"text-align: right;\">\n",
              "      <th></th>\n",
              "      <th>company</th>\n",
              "      <th>valuation</th>\n",
              "      <th>date_joined</th>\n",
              "      <th>country</th>\n",
              "      <th>city</th>\n",
              "      <th>industry</th>\n",
              "      <th>investors</th>\n",
              "      <th>investor1</th>\n",
              "      <th>investor2</th>\n",
              "      <th>investor3</th>\n",
              "      <th>investor4</th>\n",
              "    </tr>\n",
              "  </thead>\n",
              "  <tbody>\n",
              "    <tr>\n",
              "      <th>0</th>\n",
              "      <td>ByteDance</td>\n",
              "      <td>140.0</td>\n",
              "      <td>2017-04-07</td>\n",
              "      <td>China</td>\n",
              "      <td>Beijing</td>\n",
              "      <td>Artificial intelligence</td>\n",
              "      <td>Sequoia Capital China, SIG Asia Investments, S...</td>\n",
              "      <td>Sequoia Capital China</td>\n",
              "      <td>SIG Asia Investments</td>\n",
              "      <td>Sina Weibo</td>\n",
              "      <td>Softbank Group</td>\n",
              "    </tr>\n",
              "    <tr>\n",
              "      <th>1</th>\n",
              "      <td>SpaceX</td>\n",
              "      <td>127.0</td>\n",
              "      <td>2012-12-01</td>\n",
              "      <td>United States</td>\n",
              "      <td>Hawthorne</td>\n",
              "      <td>Other</td>\n",
              "      <td>Founders Fund, Draper Fisher Jurvetson, Rothen...</td>\n",
              "      <td>Founders Fund</td>\n",
              "      <td>Draper Fisher Jurvetson</td>\n",
              "      <td>Rothenberg Ventures</td>\n",
              "      <td>None</td>\n",
              "    </tr>\n",
              "    <tr>\n",
              "      <th>2</th>\n",
              "      <td>SHEIN</td>\n",
              "      <td>100.0</td>\n",
              "      <td>2018-07-03</td>\n",
              "      <td>China</td>\n",
              "      <td>Shenzhen</td>\n",
              "      <td>E-commerce &amp; direct-to-consumer</td>\n",
              "      <td>Tiger Global Management, Sequoia Capital China...</td>\n",
              "      <td>Tiger Global Management</td>\n",
              "      <td>Sequoia Capital China</td>\n",
              "      <td>Shunwei Capital Partners</td>\n",
              "      <td>None</td>\n",
              "    </tr>\n",
              "    <tr>\n",
              "      <th>3</th>\n",
              "      <td>Stripe</td>\n",
              "      <td>95.0</td>\n",
              "      <td>2014-01-23</td>\n",
              "      <td>United States</td>\n",
              "      <td>San Francisco</td>\n",
              "      <td>Fintech</td>\n",
              "      <td>Khosla Ventures, LowercaseCapital, capitalG</td>\n",
              "      <td>Khosla Ventures</td>\n",
              "      <td>LowercaseCapital</td>\n",
              "      <td>capitalG</td>\n",
              "      <td>None</td>\n",
              "    </tr>\n",
              "    <tr>\n",
              "      <th>4</th>\n",
              "      <td>Canva</td>\n",
              "      <td>40.0</td>\n",
              "      <td>2018-01-08</td>\n",
              "      <td>Australia</td>\n",
              "      <td>Surry Hills</td>\n",
              "      <td>Internet software &amp; services</td>\n",
              "      <td>Sequoia Capital China, Blackbird Ventures, Mat...</td>\n",
              "      <td>Sequoia Capital China</td>\n",
              "      <td>Blackbird Ventures</td>\n",
              "      <td>Matrix Partners</td>\n",
              "      <td>None</td>\n",
              "    </tr>\n",
              "  </tbody>\n",
              "</table>\n",
              "</div>\n",
              "      <button class=\"colab-df-convert\" onclick=\"convertToInteractive('df-062c6222-56be-4931-99cc-676252b3aa66')\"\n",
              "              title=\"Convert this dataframe to an interactive table.\"\n",
              "              style=\"display:none;\">\n",
              "        \n",
              "  <svg xmlns=\"http://www.w3.org/2000/svg\" height=\"24px\"viewBox=\"0 0 24 24\"\n",
              "       width=\"24px\">\n",
              "    <path d=\"M0 0h24v24H0V0z\" fill=\"none\"/>\n",
              "    <path d=\"M18.56 5.44l.94 2.06.94-2.06 2.06-.94-2.06-.94-.94-2.06-.94 2.06-2.06.94zm-11 1L8.5 8.5l.94-2.06 2.06-.94-2.06-.94L8.5 2.5l-.94 2.06-2.06.94zm10 10l.94 2.06.94-2.06 2.06-.94-2.06-.94-.94-2.06-.94 2.06-2.06.94z\"/><path d=\"M17.41 7.96l-1.37-1.37c-.4-.4-.92-.59-1.43-.59-.52 0-1.04.2-1.43.59L10.3 9.45l-7.72 7.72c-.78.78-.78 2.05 0 2.83L4 21.41c.39.39.9.59 1.41.59.51 0 1.02-.2 1.41-.59l7.78-7.78 2.81-2.81c.8-.78.8-2.07 0-2.86zM5.41 20L4 18.59l7.72-7.72 1.47 1.35L5.41 20z\"/>\n",
              "  </svg>\n",
              "      </button>\n",
              "      \n",
              "  <style>\n",
              "    .colab-df-container {\n",
              "      display:flex;\n",
              "      flex-wrap:wrap;\n",
              "      gap: 12px;\n",
              "    }\n",
              "\n",
              "    .colab-df-convert {\n",
              "      background-color: #E8F0FE;\n",
              "      border: none;\n",
              "      border-radius: 50%;\n",
              "      cursor: pointer;\n",
              "      display: none;\n",
              "      fill: #1967D2;\n",
              "      height: 32px;\n",
              "      padding: 0 0 0 0;\n",
              "      width: 32px;\n",
              "    }\n",
              "\n",
              "    .colab-df-convert:hover {\n",
              "      background-color: #E2EBFA;\n",
              "      box-shadow: 0px 1px 2px rgba(60, 64, 67, 0.3), 0px 1px 3px 1px rgba(60, 64, 67, 0.15);\n",
              "      fill: #174EA6;\n",
              "    }\n",
              "\n",
              "    [theme=dark] .colab-df-convert {\n",
              "      background-color: #3B4455;\n",
              "      fill: #D2E3FC;\n",
              "    }\n",
              "\n",
              "    [theme=dark] .colab-df-convert:hover {\n",
              "      background-color: #434B5C;\n",
              "      box-shadow: 0px 1px 3px 1px rgba(0, 0, 0, 0.15);\n",
              "      filter: drop-shadow(0px 1px 2px rgba(0, 0, 0, 0.3));\n",
              "      fill: #FFFFFF;\n",
              "    }\n",
              "  </style>\n",
              "\n",
              "      <script>\n",
              "        const buttonEl =\n",
              "          document.querySelector('#df-062c6222-56be-4931-99cc-676252b3aa66 button.colab-df-convert');\n",
              "        buttonEl.style.display =\n",
              "          google.colab.kernel.accessAllowed ? 'block' : 'none';\n",
              "\n",
              "        async function convertToInteractive(key) {\n",
              "          const element = document.querySelector('#df-062c6222-56be-4931-99cc-676252b3aa66');\n",
              "          const dataTable =\n",
              "            await google.colab.kernel.invokeFunction('convertToInteractive',\n",
              "                                                     [key], {});\n",
              "          if (!dataTable) return;\n",
              "\n",
              "          const docLinkHtml = 'Like what you see? Visit the ' +\n",
              "            '<a target=\"_blank\" href=https://colab.research.google.com/notebooks/data_table.ipynb>data table notebook</a>'\n",
              "            + ' to learn more about interactive tables.';\n",
              "          element.innerHTML = '';\n",
              "          dataTable['output_type'] = 'display_data';\n",
              "          await google.colab.output.renderOutput(dataTable, element);\n",
              "          const docLink = document.createElement('div');\n",
              "          docLink.innerHTML = docLinkHtml;\n",
              "          element.appendChild(docLink);\n",
              "        }\n",
              "      </script>\n",
              "    </div>\n",
              "  </div>\n",
              "  "
            ]
          },
          "metadata": {},
          "execution_count": 21
        }
      ]
    },
    {
      "cell_type": "markdown",
      "source": [
        "Checando o conteudo de 'Other' na coluna industry"
      ],
      "metadata": {
        "id": "shrQFWHkVS3t"
      }
    },
    {
      "cell_type": "code",
      "source": [
        "df[df['industry']== 'Other'][:5]\n"
      ],
      "metadata": {
        "colab": {
          "base_uri": "https://localhost:8080/",
          "height": 337
        },
        "id": "bMF1zojxVYMF",
        "outputId": "18dca445-c554-4886-d4ec-1814a3b7ce64"
      },
      "execution_count": 22,
      "outputs": [
        {
          "output_type": "execute_result",
          "data": {
            "text/plain": [
              "                   company  valuation date_joined        country         city  \\\n",
              "1                   SpaceX     127.00  2012-12-01  United States    Hawthorne   \n",
              "9               Epic Games      31.50  2018-10-26  United States         Cary   \n",
              "58                  HEYTEA       9.28  2019-07-01          China     Shenzhen   \n",
              "61               Northvolt       9.08  2019-06-12         Sweden    Stockholm   \n",
              "109  Black Unicorn Factory       6.10  2021-05-20  United States  Los Angeles   \n",
              "\n",
              "    industry                                          investors  \\\n",
              "1      Other  Founders Fund, Draper Fisher Jurvetson, Rothen...   \n",
              "9      Other              Tencent Holdings, KKR, Smash Ventures   \n",
              "58     Other  Sequoia Capital China, Tencent Investment, BA ...   \n",
              "61     Other        Vattenfall, Volkswagen Group, Goldman Sachs   \n",
              "109    Other                                    Barter Ventures   \n",
              "\n",
              "                 investor1                investor2            investor3  \\\n",
              "1            Founders Fund  Draper Fisher Jurvetson  Rothenberg Ventures   \n",
              "9         Tencent Holdings                      KKR       Smash Ventures   \n",
              "58   Sequoia Capital China       Tencent Investment           BA Capital   \n",
              "61              Vattenfall         Volkswagen Group        Goldman Sachs   \n",
              "109        Barter Ventures                     None                 None   \n",
              "\n",
              "    investor4  \n",
              "1        None  \n",
              "9        None  \n",
              "58       None  \n",
              "61       None  \n",
              "109      None  "
            ],
            "text/html": [
              "\n",
              "  <div id=\"df-0a1e3d60-1baf-429a-b6e3-2e063aeee721\">\n",
              "    <div class=\"colab-df-container\">\n",
              "      <div>\n",
              "<style scoped>\n",
              "    .dataframe tbody tr th:only-of-type {\n",
              "        vertical-align: middle;\n",
              "    }\n",
              "\n",
              "    .dataframe tbody tr th {\n",
              "        vertical-align: top;\n",
              "    }\n",
              "\n",
              "    .dataframe thead th {\n",
              "        text-align: right;\n",
              "    }\n",
              "</style>\n",
              "<table border=\"1\" class=\"dataframe\">\n",
              "  <thead>\n",
              "    <tr style=\"text-align: right;\">\n",
              "      <th></th>\n",
              "      <th>company</th>\n",
              "      <th>valuation</th>\n",
              "      <th>date_joined</th>\n",
              "      <th>country</th>\n",
              "      <th>city</th>\n",
              "      <th>industry</th>\n",
              "      <th>investors</th>\n",
              "      <th>investor1</th>\n",
              "      <th>investor2</th>\n",
              "      <th>investor3</th>\n",
              "      <th>investor4</th>\n",
              "    </tr>\n",
              "  </thead>\n",
              "  <tbody>\n",
              "    <tr>\n",
              "      <th>1</th>\n",
              "      <td>SpaceX</td>\n",
              "      <td>127.00</td>\n",
              "      <td>2012-12-01</td>\n",
              "      <td>United States</td>\n",
              "      <td>Hawthorne</td>\n",
              "      <td>Other</td>\n",
              "      <td>Founders Fund, Draper Fisher Jurvetson, Rothen...</td>\n",
              "      <td>Founders Fund</td>\n",
              "      <td>Draper Fisher Jurvetson</td>\n",
              "      <td>Rothenberg Ventures</td>\n",
              "      <td>None</td>\n",
              "    </tr>\n",
              "    <tr>\n",
              "      <th>9</th>\n",
              "      <td>Epic Games</td>\n",
              "      <td>31.50</td>\n",
              "      <td>2018-10-26</td>\n",
              "      <td>United States</td>\n",
              "      <td>Cary</td>\n",
              "      <td>Other</td>\n",
              "      <td>Tencent Holdings, KKR, Smash Ventures</td>\n",
              "      <td>Tencent Holdings</td>\n",
              "      <td>KKR</td>\n",
              "      <td>Smash Ventures</td>\n",
              "      <td>None</td>\n",
              "    </tr>\n",
              "    <tr>\n",
              "      <th>58</th>\n",
              "      <td>HEYTEA</td>\n",
              "      <td>9.28</td>\n",
              "      <td>2019-07-01</td>\n",
              "      <td>China</td>\n",
              "      <td>Shenzhen</td>\n",
              "      <td>Other</td>\n",
              "      <td>Sequoia Capital China, Tencent Investment, BA ...</td>\n",
              "      <td>Sequoia Capital China</td>\n",
              "      <td>Tencent Investment</td>\n",
              "      <td>BA Capital</td>\n",
              "      <td>None</td>\n",
              "    </tr>\n",
              "    <tr>\n",
              "      <th>61</th>\n",
              "      <td>Northvolt</td>\n",
              "      <td>9.08</td>\n",
              "      <td>2019-06-12</td>\n",
              "      <td>Sweden</td>\n",
              "      <td>Stockholm</td>\n",
              "      <td>Other</td>\n",
              "      <td>Vattenfall, Volkswagen Group, Goldman Sachs</td>\n",
              "      <td>Vattenfall</td>\n",
              "      <td>Volkswagen Group</td>\n",
              "      <td>Goldman Sachs</td>\n",
              "      <td>None</td>\n",
              "    </tr>\n",
              "    <tr>\n",
              "      <th>109</th>\n",
              "      <td>Black Unicorn Factory</td>\n",
              "      <td>6.10</td>\n",
              "      <td>2021-05-20</td>\n",
              "      <td>United States</td>\n",
              "      <td>Los Angeles</td>\n",
              "      <td>Other</td>\n",
              "      <td>Barter Ventures</td>\n",
              "      <td>Barter Ventures</td>\n",
              "      <td>None</td>\n",
              "      <td>None</td>\n",
              "      <td>None</td>\n",
              "    </tr>\n",
              "  </tbody>\n",
              "</table>\n",
              "</div>\n",
              "      <button class=\"colab-df-convert\" onclick=\"convertToInteractive('df-0a1e3d60-1baf-429a-b6e3-2e063aeee721')\"\n",
              "              title=\"Convert this dataframe to an interactive table.\"\n",
              "              style=\"display:none;\">\n",
              "        \n",
              "  <svg xmlns=\"http://www.w3.org/2000/svg\" height=\"24px\"viewBox=\"0 0 24 24\"\n",
              "       width=\"24px\">\n",
              "    <path d=\"M0 0h24v24H0V0z\" fill=\"none\"/>\n",
              "    <path d=\"M18.56 5.44l.94 2.06.94-2.06 2.06-.94-2.06-.94-.94-2.06-.94 2.06-2.06.94zm-11 1L8.5 8.5l.94-2.06 2.06-.94-2.06-.94L8.5 2.5l-.94 2.06-2.06.94zm10 10l.94 2.06.94-2.06 2.06-.94-2.06-.94-.94-2.06-.94 2.06-2.06.94z\"/><path d=\"M17.41 7.96l-1.37-1.37c-.4-.4-.92-.59-1.43-.59-.52 0-1.04.2-1.43.59L10.3 9.45l-7.72 7.72c-.78.78-.78 2.05 0 2.83L4 21.41c.39.39.9.59 1.41.59.51 0 1.02-.2 1.41-.59l7.78-7.78 2.81-2.81c.8-.78.8-2.07 0-2.86zM5.41 20L4 18.59l7.72-7.72 1.47 1.35L5.41 20z\"/>\n",
              "  </svg>\n",
              "      </button>\n",
              "      \n",
              "  <style>\n",
              "    .colab-df-container {\n",
              "      display:flex;\n",
              "      flex-wrap:wrap;\n",
              "      gap: 12px;\n",
              "    }\n",
              "\n",
              "    .colab-df-convert {\n",
              "      background-color: #E8F0FE;\n",
              "      border: none;\n",
              "      border-radius: 50%;\n",
              "      cursor: pointer;\n",
              "      display: none;\n",
              "      fill: #1967D2;\n",
              "      height: 32px;\n",
              "      padding: 0 0 0 0;\n",
              "      width: 32px;\n",
              "    }\n",
              "\n",
              "    .colab-df-convert:hover {\n",
              "      background-color: #E2EBFA;\n",
              "      box-shadow: 0px 1px 2px rgba(60, 64, 67, 0.3), 0px 1px 3px 1px rgba(60, 64, 67, 0.15);\n",
              "      fill: #174EA6;\n",
              "    }\n",
              "\n",
              "    [theme=dark] .colab-df-convert {\n",
              "      background-color: #3B4455;\n",
              "      fill: #D2E3FC;\n",
              "    }\n",
              "\n",
              "    [theme=dark] .colab-df-convert:hover {\n",
              "      background-color: #434B5C;\n",
              "      box-shadow: 0px 1px 3px 1px rgba(0, 0, 0, 0.15);\n",
              "      filter: drop-shadow(0px 1px 2px rgba(0, 0, 0, 0.3));\n",
              "      fill: #FFFFFF;\n",
              "    }\n",
              "  </style>\n",
              "\n",
              "      <script>\n",
              "        const buttonEl =\n",
              "          document.querySelector('#df-0a1e3d60-1baf-429a-b6e3-2e063aeee721 button.colab-df-convert');\n",
              "        buttonEl.style.display =\n",
              "          google.colab.kernel.accessAllowed ? 'block' : 'none';\n",
              "\n",
              "        async function convertToInteractive(key) {\n",
              "          const element = document.querySelector('#df-0a1e3d60-1baf-429a-b6e3-2e063aeee721');\n",
              "          const dataTable =\n",
              "            await google.colab.kernel.invokeFunction('convertToInteractive',\n",
              "                                                     [key], {});\n",
              "          if (!dataTable) return;\n",
              "\n",
              "          const docLinkHtml = 'Like what you see? Visit the ' +\n",
              "            '<a target=\"_blank\" href=https://colab.research.google.com/notebooks/data_table.ipynb>data table notebook</a>'\n",
              "            + ' to learn more about interactive tables.';\n",
              "          element.innerHTML = '';\n",
              "          dataTable['output_type'] = 'display_data';\n",
              "          await google.colab.output.renderOutput(dataTable, element);\n",
              "          const docLink = document.createElement('div');\n",
              "          docLink.innerHTML = docLinkHtml;\n",
              "          element.appendChild(docLink);\n",
              "        }\n",
              "      </script>\n",
              "    </div>\n",
              "  </div>\n",
              "  "
            ]
          },
          "metadata": {},
          "execution_count": 22
        }
      ]
    },
    {
      "cell_type": "markdown",
      "source": [
        "Decido mudar a categoria apenas da SpaceX e da Epic Games, devido a relevância econômica dos dois perante o restante da categoria 'others'."
      ],
      "metadata": {
        "id": "nODO42DDnnAP"
      }
    },
    {
      "cell_type": "code",
      "source": [
        "df.industry[1:2] = df.industry.replace('Other','Aerospace engineer')[1:2]\n",
        "\n"
      ],
      "metadata": {
        "colab": {
          "base_uri": "https://localhost:8080/"
        },
        "id": "N6juc9Z0LbfJ",
        "outputId": "88f13cd3-389d-4156-d3db-52d5148291e0"
      },
      "execution_count": 23,
      "outputs": [
        {
          "output_type": "stream",
          "name": "stderr",
          "text": [
            "/usr/local/lib/python3.7/dist-packages/ipykernel_launcher.py:1: SettingWithCopyWarning: \n",
            "A value is trying to be set on a copy of a slice from a DataFrame\n",
            "\n",
            "See the caveats in the documentation: https://pandas.pydata.org/pandas-docs/stable/user_guide/indexing.html#returning-a-view-versus-a-copy\n",
            "  \"\"\"Entry point for launching an IPython kernel.\n"
          ]
        }
      ]
    },
    {
      "cell_type": "markdown",
      "source": [
        "Mudando o setor da Epic Games e da Wildlife studios (Por ser brasileira)"
      ],
      "metadata": {
        "id": "B496IakJZRC9"
      }
    },
    {
      "cell_type": "code",
      "source": [
        "df.industry[9:10] = df.industry.replace('Other','Games')[9:10]\n",
        "df.industry[291] = df.industry.replace('Other','Games')[291]\n"
      ],
      "metadata": {
        "colab": {
          "base_uri": "https://localhost:8080/"
        },
        "id": "6Ot1GAETO4Gt",
        "outputId": "380fe493-63db-47fa-f32f-ddb5e2dd1904"
      },
      "execution_count": 24,
      "outputs": [
        {
          "output_type": "stream",
          "name": "stderr",
          "text": [
            "/usr/local/lib/python3.7/dist-packages/ipykernel_launcher.py:1: SettingWithCopyWarning: \n",
            "A value is trying to be set on a copy of a slice from a DataFrame\n",
            "\n",
            "See the caveats in the documentation: https://pandas.pydata.org/pandas-docs/stable/user_guide/indexing.html#returning-a-view-versus-a-copy\n",
            "  \"\"\"Entry point for launching an IPython kernel.\n",
            "/usr/local/lib/python3.7/dist-packages/ipykernel_launcher.py:2: SettingWithCopyWarning: \n",
            "A value is trying to be set on a copy of a slice from a DataFrame\n",
            "\n",
            "See the caveats in the documentation: https://pandas.pydata.org/pandas-docs/stable/user_guide/indexing.html#returning-a-view-versus-a-copy\n",
            "  \n"
          ]
        }
      ]
    },
    {
      "cell_type": "markdown",
      "source": [
        "#EDA"
      ],
      "metadata": {
        "id": "IvXJtoCA8pgg"
      }
    },
    {
      "cell_type": "code",
      "source": [
        "df.describe()"
      ],
      "metadata": {
        "colab": {
          "base_uri": "https://localhost:8080/",
          "height": 300
        },
        "id": "u16Lyc2D8qp3",
        "outputId": "1e4524c5-257b-4b70-d725-94043adf3cdb"
      },
      "execution_count": 25,
      "outputs": [
        {
          "output_type": "execute_result",
          "data": {
            "text/plain": [
              "         valuation\n",
              "count  1182.000000\n",
              "mean      3.252597\n",
              "std       7.652385\n",
              "min       1.000000\n",
              "25%       1.100000\n",
              "50%       1.595000\n",
              "75%       3.000000\n",
              "max     140.000000"
            ],
            "text/html": [
              "\n",
              "  <div id=\"df-818e04b5-d064-4b2a-ac4a-01c2fbafd711\">\n",
              "    <div class=\"colab-df-container\">\n",
              "      <div>\n",
              "<style scoped>\n",
              "    .dataframe tbody tr th:only-of-type {\n",
              "        vertical-align: middle;\n",
              "    }\n",
              "\n",
              "    .dataframe tbody tr th {\n",
              "        vertical-align: top;\n",
              "    }\n",
              "\n",
              "    .dataframe thead th {\n",
              "        text-align: right;\n",
              "    }\n",
              "</style>\n",
              "<table border=\"1\" class=\"dataframe\">\n",
              "  <thead>\n",
              "    <tr style=\"text-align: right;\">\n",
              "      <th></th>\n",
              "      <th>valuation</th>\n",
              "    </tr>\n",
              "  </thead>\n",
              "  <tbody>\n",
              "    <tr>\n",
              "      <th>count</th>\n",
              "      <td>1182.000000</td>\n",
              "    </tr>\n",
              "    <tr>\n",
              "      <th>mean</th>\n",
              "      <td>3.252597</td>\n",
              "    </tr>\n",
              "    <tr>\n",
              "      <th>std</th>\n",
              "      <td>7.652385</td>\n",
              "    </tr>\n",
              "    <tr>\n",
              "      <th>min</th>\n",
              "      <td>1.000000</td>\n",
              "    </tr>\n",
              "    <tr>\n",
              "      <th>25%</th>\n",
              "      <td>1.100000</td>\n",
              "    </tr>\n",
              "    <tr>\n",
              "      <th>50%</th>\n",
              "      <td>1.595000</td>\n",
              "    </tr>\n",
              "    <tr>\n",
              "      <th>75%</th>\n",
              "      <td>3.000000</td>\n",
              "    </tr>\n",
              "    <tr>\n",
              "      <th>max</th>\n",
              "      <td>140.000000</td>\n",
              "    </tr>\n",
              "  </tbody>\n",
              "</table>\n",
              "</div>\n",
              "      <button class=\"colab-df-convert\" onclick=\"convertToInteractive('df-818e04b5-d064-4b2a-ac4a-01c2fbafd711')\"\n",
              "              title=\"Convert this dataframe to an interactive table.\"\n",
              "              style=\"display:none;\">\n",
              "        \n",
              "  <svg xmlns=\"http://www.w3.org/2000/svg\" height=\"24px\"viewBox=\"0 0 24 24\"\n",
              "       width=\"24px\">\n",
              "    <path d=\"M0 0h24v24H0V0z\" fill=\"none\"/>\n",
              "    <path d=\"M18.56 5.44l.94 2.06.94-2.06 2.06-.94-2.06-.94-.94-2.06-.94 2.06-2.06.94zm-11 1L8.5 8.5l.94-2.06 2.06-.94-2.06-.94L8.5 2.5l-.94 2.06-2.06.94zm10 10l.94 2.06.94-2.06 2.06-.94-2.06-.94-.94-2.06-.94 2.06-2.06.94z\"/><path d=\"M17.41 7.96l-1.37-1.37c-.4-.4-.92-.59-1.43-.59-.52 0-1.04.2-1.43.59L10.3 9.45l-7.72 7.72c-.78.78-.78 2.05 0 2.83L4 21.41c.39.39.9.59 1.41.59.51 0 1.02-.2 1.41-.59l7.78-7.78 2.81-2.81c.8-.78.8-2.07 0-2.86zM5.41 20L4 18.59l7.72-7.72 1.47 1.35L5.41 20z\"/>\n",
              "  </svg>\n",
              "      </button>\n",
              "      \n",
              "  <style>\n",
              "    .colab-df-container {\n",
              "      display:flex;\n",
              "      flex-wrap:wrap;\n",
              "      gap: 12px;\n",
              "    }\n",
              "\n",
              "    .colab-df-convert {\n",
              "      background-color: #E8F0FE;\n",
              "      border: none;\n",
              "      border-radius: 50%;\n",
              "      cursor: pointer;\n",
              "      display: none;\n",
              "      fill: #1967D2;\n",
              "      height: 32px;\n",
              "      padding: 0 0 0 0;\n",
              "      width: 32px;\n",
              "    }\n",
              "\n",
              "    .colab-df-convert:hover {\n",
              "      background-color: #E2EBFA;\n",
              "      box-shadow: 0px 1px 2px rgba(60, 64, 67, 0.3), 0px 1px 3px 1px rgba(60, 64, 67, 0.15);\n",
              "      fill: #174EA6;\n",
              "    }\n",
              "\n",
              "    [theme=dark] .colab-df-convert {\n",
              "      background-color: #3B4455;\n",
              "      fill: #D2E3FC;\n",
              "    }\n",
              "\n",
              "    [theme=dark] .colab-df-convert:hover {\n",
              "      background-color: #434B5C;\n",
              "      box-shadow: 0px 1px 3px 1px rgba(0, 0, 0, 0.15);\n",
              "      filter: drop-shadow(0px 1px 2px rgba(0, 0, 0, 0.3));\n",
              "      fill: #FFFFFF;\n",
              "    }\n",
              "  </style>\n",
              "\n",
              "      <script>\n",
              "        const buttonEl =\n",
              "          document.querySelector('#df-818e04b5-d064-4b2a-ac4a-01c2fbafd711 button.colab-df-convert');\n",
              "        buttonEl.style.display =\n",
              "          google.colab.kernel.accessAllowed ? 'block' : 'none';\n",
              "\n",
              "        async function convertToInteractive(key) {\n",
              "          const element = document.querySelector('#df-818e04b5-d064-4b2a-ac4a-01c2fbafd711');\n",
              "          const dataTable =\n",
              "            await google.colab.kernel.invokeFunction('convertToInteractive',\n",
              "                                                     [key], {});\n",
              "          if (!dataTable) return;\n",
              "\n",
              "          const docLinkHtml = 'Like what you see? Visit the ' +\n",
              "            '<a target=\"_blank\" href=https://colab.research.google.com/notebooks/data_table.ipynb>data table notebook</a>'\n",
              "            + ' to learn more about interactive tables.';\n",
              "          element.innerHTML = '';\n",
              "          dataTable['output_type'] = 'display_data';\n",
              "          await google.colab.output.renderOutput(dataTable, element);\n",
              "          const docLink = document.createElement('div');\n",
              "          docLink.innerHTML = docLinkHtml;\n",
              "          element.appendChild(docLink);\n",
              "        }\n",
              "      </script>\n",
              "    </div>\n",
              "  </div>\n",
              "  "
            ]
          },
          "metadata": {},
          "execution_count": 25
        }
      ]
    },
    {
      "cell_type": "code",
      "source": [
        "df.describe(include='all')"
      ],
      "metadata": {
        "colab": {
          "base_uri": "https://localhost:8080/",
          "height": 609
        },
        "id": "R7O5Rlfb0HoI",
        "outputId": "e8fe37ed-422c-4f6a-8574-f7ebdb5e3dd3"
      },
      "execution_count": 26,
      "outputs": [
        {
          "output_type": "stream",
          "name": "stderr",
          "text": [
            "/usr/local/lib/python3.7/dist-packages/ipykernel_launcher.py:1: FutureWarning: Treating datetime data as categorical rather than numeric in `.describe` is deprecated and will be removed in a future version of pandas. Specify `datetime_is_numeric=True` to silence this warning and adopt the future behavior now.\n",
            "  \"\"\"Entry point for launching an IPython kernel.\n"
          ]
        },
        {
          "output_type": "execute_result",
          "data": {
            "text/plain": [
              "       company    valuation          date_joined        country  \\\n",
              "count     1182  1182.000000                 1182           1182   \n",
              "unique    1179          NaN                  693             48   \n",
              "top     Fabric          NaN  2021-07-13 00:00:00  United States   \n",
              "freq         2          NaN                    9            634   \n",
              "first      NaN          NaN  2007-07-02 00:00:00            NaN   \n",
              "last       NaN          NaN  2022-08-16 00:00:00            NaN   \n",
              "mean       NaN     3.252597                  NaN            NaN   \n",
              "std        NaN     7.652385                  NaN            NaN   \n",
              "min        NaN     1.000000                  NaN            NaN   \n",
              "25%        NaN     1.100000                  NaN            NaN   \n",
              "50%        NaN     1.595000                  NaN            NaN   \n",
              "75%        NaN     3.000000                  NaN            NaN   \n",
              "max        NaN   140.000000                  NaN            NaN   \n",
              "\n",
              "                 city industry        investors            investor1  \\\n",
              "count            1165     1182             1181                 1181   \n",
              "unique            280       18             1165                  600   \n",
              "top     San Francisco  Fintech  Sequoia Capital  Andreessen Horowitz   \n",
              "freq              167      246                3                   33   \n",
              "first             NaN      NaN              NaN                  NaN   \n",
              "last              NaN      NaN              NaN                  NaN   \n",
              "mean              NaN      NaN              NaN                  NaN   \n",
              "std               NaN      NaN              NaN                  NaN   \n",
              "min               NaN      NaN              NaN                  NaN   \n",
              "25%               NaN      NaN              NaN                  NaN   \n",
              "50%               NaN      NaN              NaN                  NaN   \n",
              "75%               NaN      NaN              NaN                  NaN   \n",
              "max               NaN      NaN              NaN                  NaN   \n",
              "\n",
              "                      investor2                investor3       investor4  \n",
              "count                      1127                     1032               6  \n",
              "unique                      654                      619               6  \n",
              "top     Tiger Global Management  Tiger Global Management  Softbank Group  \n",
              "freq                         22                       20               1  \n",
              "first                       NaN                      NaN             NaN  \n",
              "last                        NaN                      NaN             NaN  \n",
              "mean                        NaN                      NaN             NaN  \n",
              "std                         NaN                      NaN             NaN  \n",
              "min                         NaN                      NaN             NaN  \n",
              "25%                         NaN                      NaN             NaN  \n",
              "50%                         NaN                      NaN             NaN  \n",
              "75%                         NaN                      NaN             NaN  \n",
              "max                         NaN                      NaN             NaN  "
            ],
            "text/html": [
              "\n",
              "  <div id=\"df-2eaa8894-2e32-4afd-a015-037d17d4143d\">\n",
              "    <div class=\"colab-df-container\">\n",
              "      <div>\n",
              "<style scoped>\n",
              "    .dataframe tbody tr th:only-of-type {\n",
              "        vertical-align: middle;\n",
              "    }\n",
              "\n",
              "    .dataframe tbody tr th {\n",
              "        vertical-align: top;\n",
              "    }\n",
              "\n",
              "    .dataframe thead th {\n",
              "        text-align: right;\n",
              "    }\n",
              "</style>\n",
              "<table border=\"1\" class=\"dataframe\">\n",
              "  <thead>\n",
              "    <tr style=\"text-align: right;\">\n",
              "      <th></th>\n",
              "      <th>company</th>\n",
              "      <th>valuation</th>\n",
              "      <th>date_joined</th>\n",
              "      <th>country</th>\n",
              "      <th>city</th>\n",
              "      <th>industry</th>\n",
              "      <th>investors</th>\n",
              "      <th>investor1</th>\n",
              "      <th>investor2</th>\n",
              "      <th>investor3</th>\n",
              "      <th>investor4</th>\n",
              "    </tr>\n",
              "  </thead>\n",
              "  <tbody>\n",
              "    <tr>\n",
              "      <th>count</th>\n",
              "      <td>1182</td>\n",
              "      <td>1182.000000</td>\n",
              "      <td>1182</td>\n",
              "      <td>1182</td>\n",
              "      <td>1165</td>\n",
              "      <td>1182</td>\n",
              "      <td>1181</td>\n",
              "      <td>1181</td>\n",
              "      <td>1127</td>\n",
              "      <td>1032</td>\n",
              "      <td>6</td>\n",
              "    </tr>\n",
              "    <tr>\n",
              "      <th>unique</th>\n",
              "      <td>1179</td>\n",
              "      <td>NaN</td>\n",
              "      <td>693</td>\n",
              "      <td>48</td>\n",
              "      <td>280</td>\n",
              "      <td>18</td>\n",
              "      <td>1165</td>\n",
              "      <td>600</td>\n",
              "      <td>654</td>\n",
              "      <td>619</td>\n",
              "      <td>6</td>\n",
              "    </tr>\n",
              "    <tr>\n",
              "      <th>top</th>\n",
              "      <td>Fabric</td>\n",
              "      <td>NaN</td>\n",
              "      <td>2021-07-13 00:00:00</td>\n",
              "      <td>United States</td>\n",
              "      <td>San Francisco</td>\n",
              "      <td>Fintech</td>\n",
              "      <td>Sequoia Capital</td>\n",
              "      <td>Andreessen Horowitz</td>\n",
              "      <td>Tiger Global Management</td>\n",
              "      <td>Tiger Global Management</td>\n",
              "      <td>Softbank Group</td>\n",
              "    </tr>\n",
              "    <tr>\n",
              "      <th>freq</th>\n",
              "      <td>2</td>\n",
              "      <td>NaN</td>\n",
              "      <td>9</td>\n",
              "      <td>634</td>\n",
              "      <td>167</td>\n",
              "      <td>246</td>\n",
              "      <td>3</td>\n",
              "      <td>33</td>\n",
              "      <td>22</td>\n",
              "      <td>20</td>\n",
              "      <td>1</td>\n",
              "    </tr>\n",
              "    <tr>\n",
              "      <th>first</th>\n",
              "      <td>NaN</td>\n",
              "      <td>NaN</td>\n",
              "      <td>2007-07-02 00:00:00</td>\n",
              "      <td>NaN</td>\n",
              "      <td>NaN</td>\n",
              "      <td>NaN</td>\n",
              "      <td>NaN</td>\n",
              "      <td>NaN</td>\n",
              "      <td>NaN</td>\n",
              "      <td>NaN</td>\n",
              "      <td>NaN</td>\n",
              "    </tr>\n",
              "    <tr>\n",
              "      <th>last</th>\n",
              "      <td>NaN</td>\n",
              "      <td>NaN</td>\n",
              "      <td>2022-08-16 00:00:00</td>\n",
              "      <td>NaN</td>\n",
              "      <td>NaN</td>\n",
              "      <td>NaN</td>\n",
              "      <td>NaN</td>\n",
              "      <td>NaN</td>\n",
              "      <td>NaN</td>\n",
              "      <td>NaN</td>\n",
              "      <td>NaN</td>\n",
              "    </tr>\n",
              "    <tr>\n",
              "      <th>mean</th>\n",
              "      <td>NaN</td>\n",
              "      <td>3.252597</td>\n",
              "      <td>NaN</td>\n",
              "      <td>NaN</td>\n",
              "      <td>NaN</td>\n",
              "      <td>NaN</td>\n",
              "      <td>NaN</td>\n",
              "      <td>NaN</td>\n",
              "      <td>NaN</td>\n",
              "      <td>NaN</td>\n",
              "      <td>NaN</td>\n",
              "    </tr>\n",
              "    <tr>\n",
              "      <th>std</th>\n",
              "      <td>NaN</td>\n",
              "      <td>7.652385</td>\n",
              "      <td>NaN</td>\n",
              "      <td>NaN</td>\n",
              "      <td>NaN</td>\n",
              "      <td>NaN</td>\n",
              "      <td>NaN</td>\n",
              "      <td>NaN</td>\n",
              "      <td>NaN</td>\n",
              "      <td>NaN</td>\n",
              "      <td>NaN</td>\n",
              "    </tr>\n",
              "    <tr>\n",
              "      <th>min</th>\n",
              "      <td>NaN</td>\n",
              "      <td>1.000000</td>\n",
              "      <td>NaN</td>\n",
              "      <td>NaN</td>\n",
              "      <td>NaN</td>\n",
              "      <td>NaN</td>\n",
              "      <td>NaN</td>\n",
              "      <td>NaN</td>\n",
              "      <td>NaN</td>\n",
              "      <td>NaN</td>\n",
              "      <td>NaN</td>\n",
              "    </tr>\n",
              "    <tr>\n",
              "      <th>25%</th>\n",
              "      <td>NaN</td>\n",
              "      <td>1.100000</td>\n",
              "      <td>NaN</td>\n",
              "      <td>NaN</td>\n",
              "      <td>NaN</td>\n",
              "      <td>NaN</td>\n",
              "      <td>NaN</td>\n",
              "      <td>NaN</td>\n",
              "      <td>NaN</td>\n",
              "      <td>NaN</td>\n",
              "      <td>NaN</td>\n",
              "    </tr>\n",
              "    <tr>\n",
              "      <th>50%</th>\n",
              "      <td>NaN</td>\n",
              "      <td>1.595000</td>\n",
              "      <td>NaN</td>\n",
              "      <td>NaN</td>\n",
              "      <td>NaN</td>\n",
              "      <td>NaN</td>\n",
              "      <td>NaN</td>\n",
              "      <td>NaN</td>\n",
              "      <td>NaN</td>\n",
              "      <td>NaN</td>\n",
              "      <td>NaN</td>\n",
              "    </tr>\n",
              "    <tr>\n",
              "      <th>75%</th>\n",
              "      <td>NaN</td>\n",
              "      <td>3.000000</td>\n",
              "      <td>NaN</td>\n",
              "      <td>NaN</td>\n",
              "      <td>NaN</td>\n",
              "      <td>NaN</td>\n",
              "      <td>NaN</td>\n",
              "      <td>NaN</td>\n",
              "      <td>NaN</td>\n",
              "      <td>NaN</td>\n",
              "      <td>NaN</td>\n",
              "    </tr>\n",
              "    <tr>\n",
              "      <th>max</th>\n",
              "      <td>NaN</td>\n",
              "      <td>140.000000</td>\n",
              "      <td>NaN</td>\n",
              "      <td>NaN</td>\n",
              "      <td>NaN</td>\n",
              "      <td>NaN</td>\n",
              "      <td>NaN</td>\n",
              "      <td>NaN</td>\n",
              "      <td>NaN</td>\n",
              "      <td>NaN</td>\n",
              "      <td>NaN</td>\n",
              "    </tr>\n",
              "  </tbody>\n",
              "</table>\n",
              "</div>\n",
              "      <button class=\"colab-df-convert\" onclick=\"convertToInteractive('df-2eaa8894-2e32-4afd-a015-037d17d4143d')\"\n",
              "              title=\"Convert this dataframe to an interactive table.\"\n",
              "              style=\"display:none;\">\n",
              "        \n",
              "  <svg xmlns=\"http://www.w3.org/2000/svg\" height=\"24px\"viewBox=\"0 0 24 24\"\n",
              "       width=\"24px\">\n",
              "    <path d=\"M0 0h24v24H0V0z\" fill=\"none\"/>\n",
              "    <path d=\"M18.56 5.44l.94 2.06.94-2.06 2.06-.94-2.06-.94-.94-2.06-.94 2.06-2.06.94zm-11 1L8.5 8.5l.94-2.06 2.06-.94-2.06-.94L8.5 2.5l-.94 2.06-2.06.94zm10 10l.94 2.06.94-2.06 2.06-.94-2.06-.94-.94-2.06-.94 2.06-2.06.94z\"/><path d=\"M17.41 7.96l-1.37-1.37c-.4-.4-.92-.59-1.43-.59-.52 0-1.04.2-1.43.59L10.3 9.45l-7.72 7.72c-.78.78-.78 2.05 0 2.83L4 21.41c.39.39.9.59 1.41.59.51 0 1.02-.2 1.41-.59l7.78-7.78 2.81-2.81c.8-.78.8-2.07 0-2.86zM5.41 20L4 18.59l7.72-7.72 1.47 1.35L5.41 20z\"/>\n",
              "  </svg>\n",
              "      </button>\n",
              "      \n",
              "  <style>\n",
              "    .colab-df-container {\n",
              "      display:flex;\n",
              "      flex-wrap:wrap;\n",
              "      gap: 12px;\n",
              "    }\n",
              "\n",
              "    .colab-df-convert {\n",
              "      background-color: #E8F0FE;\n",
              "      border: none;\n",
              "      border-radius: 50%;\n",
              "      cursor: pointer;\n",
              "      display: none;\n",
              "      fill: #1967D2;\n",
              "      height: 32px;\n",
              "      padding: 0 0 0 0;\n",
              "      width: 32px;\n",
              "    }\n",
              "\n",
              "    .colab-df-convert:hover {\n",
              "      background-color: #E2EBFA;\n",
              "      box-shadow: 0px 1px 2px rgba(60, 64, 67, 0.3), 0px 1px 3px 1px rgba(60, 64, 67, 0.15);\n",
              "      fill: #174EA6;\n",
              "    }\n",
              "\n",
              "    [theme=dark] .colab-df-convert {\n",
              "      background-color: #3B4455;\n",
              "      fill: #D2E3FC;\n",
              "    }\n",
              "\n",
              "    [theme=dark] .colab-df-convert:hover {\n",
              "      background-color: #434B5C;\n",
              "      box-shadow: 0px 1px 3px 1px rgba(0, 0, 0, 0.15);\n",
              "      filter: drop-shadow(0px 1px 2px rgba(0, 0, 0, 0.3));\n",
              "      fill: #FFFFFF;\n",
              "    }\n",
              "  </style>\n",
              "\n",
              "      <script>\n",
              "        const buttonEl =\n",
              "          document.querySelector('#df-2eaa8894-2e32-4afd-a015-037d17d4143d button.colab-df-convert');\n",
              "        buttonEl.style.display =\n",
              "          google.colab.kernel.accessAllowed ? 'block' : 'none';\n",
              "\n",
              "        async function convertToInteractive(key) {\n",
              "          const element = document.querySelector('#df-2eaa8894-2e32-4afd-a015-037d17d4143d');\n",
              "          const dataTable =\n",
              "            await google.colab.kernel.invokeFunction('convertToInteractive',\n",
              "                                                     [key], {});\n",
              "          if (!dataTable) return;\n",
              "\n",
              "          const docLinkHtml = 'Like what you see? Visit the ' +\n",
              "            '<a target=\"_blank\" href=https://colab.research.google.com/notebooks/data_table.ipynb>data table notebook</a>'\n",
              "            + ' to learn more about interactive tables.';\n",
              "          element.innerHTML = '';\n",
              "          dataTable['output_type'] = 'display_data';\n",
              "          await google.colab.output.renderOutput(dataTable, element);\n",
              "          const docLink = document.createElement('div');\n",
              "          docLink.innerHTML = docLinkHtml;\n",
              "          element.appendChild(docLink);\n",
              "        }\n",
              "      </script>\n",
              "    </div>\n",
              "  </div>\n",
              "  "
            ]
          },
          "metadata": {},
          "execution_count": 26
        }
      ]
    },
    {
      "cell_type": "markdown",
      "source": [
        "Pode-se perceber a presença de outliers, entretanto, como esses fazem parte do mercado, decido por mante-los e evitar o uso de médias para que esses não afetem a análise.\n",
        "Caso necessite utilizar médias para comparação, pretendo expor uma visualização com e sem os outliers. \n",
        "- Outliers: \n",
        "1. ByteDance(CHINA)\n",
        "2. SpaceX(EUA)\n",
        "3. Shein(CHINA)\n",
        "4. Stripe(EUA)"
      ],
      "metadata": {
        "id": "5mHGTIF-oN1J"
      }
    },
    {
      "cell_type": "code",
      "source": [
        "df['country'].value_counts()[:10]"
      ],
      "metadata": {
        "colab": {
          "base_uri": "https://localhost:8080/"
        },
        "id": "bEvYg7OEBkmf",
        "outputId": "ec7b5f22-770e-4a8b-ad67-f1cd35698b49"
      },
      "execution_count": 27,
      "outputs": [
        {
          "output_type": "execute_result",
          "data": {
            "text/plain": [
              "United States     634\n",
              "China             174\n",
              "India              69\n",
              "United Kingdom     46\n",
              "Germany            29\n",
              "France             24\n",
              "Israel             22\n",
              "Canada             19\n",
              "Brazil             17\n",
              "South Korea        16\n",
              "Name: country, dtype: int64"
            ]
          },
          "metadata": {},
          "execution_count": 27
        }
      ]
    },
    {
      "cell_type": "markdown",
      "source": [
        "Criando variável para visualizar apenas o Brasil"
      ],
      "metadata": {
        "id": "9-giaF8J3Zz6"
      }
    },
    {
      "cell_type": "code",
      "source": [
        "brasil = df[df['country']== 'Brazil']\n"
      ],
      "metadata": {
        "id": "00KZcymTMWP8"
      },
      "execution_count": 28,
      "outputs": []
    },
    {
      "cell_type": "code",
      "source": [
        "brasil.describe()"
      ],
      "metadata": {
        "colab": {
          "base_uri": "https://localhost:8080/",
          "height": 300
        },
        "id": "pdP9DoYbNv42",
        "outputId": "ceb79c7b-d16b-4a98-cc85-cda600d4faf3"
      },
      "execution_count": 29,
      "outputs": [
        {
          "output_type": "execute_result",
          "data": {
            "text/plain": [
              "       valuation\n",
              "count  17.000000\n",
              "mean    2.357647\n",
              "std     1.454839\n",
              "min     1.000000\n",
              "25%     1.000000\n",
              "50%     2.000000\n",
              "75%     3.000000\n",
              "max     5.100000"
            ],
            "text/html": [
              "\n",
              "  <div id=\"df-6d4afc3c-5615-4b41-a891-de94e1aa363c\">\n",
              "    <div class=\"colab-df-container\">\n",
              "      <div>\n",
              "<style scoped>\n",
              "    .dataframe tbody tr th:only-of-type {\n",
              "        vertical-align: middle;\n",
              "    }\n",
              "\n",
              "    .dataframe tbody tr th {\n",
              "        vertical-align: top;\n",
              "    }\n",
              "\n",
              "    .dataframe thead th {\n",
              "        text-align: right;\n",
              "    }\n",
              "</style>\n",
              "<table border=\"1\" class=\"dataframe\">\n",
              "  <thead>\n",
              "    <tr style=\"text-align: right;\">\n",
              "      <th></th>\n",
              "      <th>valuation</th>\n",
              "    </tr>\n",
              "  </thead>\n",
              "  <tbody>\n",
              "    <tr>\n",
              "      <th>count</th>\n",
              "      <td>17.000000</td>\n",
              "    </tr>\n",
              "    <tr>\n",
              "      <th>mean</th>\n",
              "      <td>2.357647</td>\n",
              "    </tr>\n",
              "    <tr>\n",
              "      <th>std</th>\n",
              "      <td>1.454839</td>\n",
              "    </tr>\n",
              "    <tr>\n",
              "      <th>min</th>\n",
              "      <td>1.000000</td>\n",
              "    </tr>\n",
              "    <tr>\n",
              "      <th>25%</th>\n",
              "      <td>1.000000</td>\n",
              "    </tr>\n",
              "    <tr>\n",
              "      <th>50%</th>\n",
              "      <td>2.000000</td>\n",
              "    </tr>\n",
              "    <tr>\n",
              "      <th>75%</th>\n",
              "      <td>3.000000</td>\n",
              "    </tr>\n",
              "    <tr>\n",
              "      <th>max</th>\n",
              "      <td>5.100000</td>\n",
              "    </tr>\n",
              "  </tbody>\n",
              "</table>\n",
              "</div>\n",
              "      <button class=\"colab-df-convert\" onclick=\"convertToInteractive('df-6d4afc3c-5615-4b41-a891-de94e1aa363c')\"\n",
              "              title=\"Convert this dataframe to an interactive table.\"\n",
              "              style=\"display:none;\">\n",
              "        \n",
              "  <svg xmlns=\"http://www.w3.org/2000/svg\" height=\"24px\"viewBox=\"0 0 24 24\"\n",
              "       width=\"24px\">\n",
              "    <path d=\"M0 0h24v24H0V0z\" fill=\"none\"/>\n",
              "    <path d=\"M18.56 5.44l.94 2.06.94-2.06 2.06-.94-2.06-.94-.94-2.06-.94 2.06-2.06.94zm-11 1L8.5 8.5l.94-2.06 2.06-.94-2.06-.94L8.5 2.5l-.94 2.06-2.06.94zm10 10l.94 2.06.94-2.06 2.06-.94-2.06-.94-.94-2.06-.94 2.06-2.06.94z\"/><path d=\"M17.41 7.96l-1.37-1.37c-.4-.4-.92-.59-1.43-.59-.52 0-1.04.2-1.43.59L10.3 9.45l-7.72 7.72c-.78.78-.78 2.05 0 2.83L4 21.41c.39.39.9.59 1.41.59.51 0 1.02-.2 1.41-.59l7.78-7.78 2.81-2.81c.8-.78.8-2.07 0-2.86zM5.41 20L4 18.59l7.72-7.72 1.47 1.35L5.41 20z\"/>\n",
              "  </svg>\n",
              "      </button>\n",
              "      \n",
              "  <style>\n",
              "    .colab-df-container {\n",
              "      display:flex;\n",
              "      flex-wrap:wrap;\n",
              "      gap: 12px;\n",
              "    }\n",
              "\n",
              "    .colab-df-convert {\n",
              "      background-color: #E8F0FE;\n",
              "      border: none;\n",
              "      border-radius: 50%;\n",
              "      cursor: pointer;\n",
              "      display: none;\n",
              "      fill: #1967D2;\n",
              "      height: 32px;\n",
              "      padding: 0 0 0 0;\n",
              "      width: 32px;\n",
              "    }\n",
              "\n",
              "    .colab-df-convert:hover {\n",
              "      background-color: #E2EBFA;\n",
              "      box-shadow: 0px 1px 2px rgba(60, 64, 67, 0.3), 0px 1px 3px 1px rgba(60, 64, 67, 0.15);\n",
              "      fill: #174EA6;\n",
              "    }\n",
              "\n",
              "    [theme=dark] .colab-df-convert {\n",
              "      background-color: #3B4455;\n",
              "      fill: #D2E3FC;\n",
              "    }\n",
              "\n",
              "    [theme=dark] .colab-df-convert:hover {\n",
              "      background-color: #434B5C;\n",
              "      box-shadow: 0px 1px 3px 1px rgba(0, 0, 0, 0.15);\n",
              "      filter: drop-shadow(0px 1px 2px rgba(0, 0, 0, 0.3));\n",
              "      fill: #FFFFFF;\n",
              "    }\n",
              "  </style>\n",
              "\n",
              "      <script>\n",
              "        const buttonEl =\n",
              "          document.querySelector('#df-6d4afc3c-5615-4b41-a891-de94e1aa363c button.colab-df-convert');\n",
              "        buttonEl.style.display =\n",
              "          google.colab.kernel.accessAllowed ? 'block' : 'none';\n",
              "\n",
              "        async function convertToInteractive(key) {\n",
              "          const element = document.querySelector('#df-6d4afc3c-5615-4b41-a891-de94e1aa363c');\n",
              "          const dataTable =\n",
              "            await google.colab.kernel.invokeFunction('convertToInteractive',\n",
              "                                                     [key], {});\n",
              "          if (!dataTable) return;\n",
              "\n",
              "          const docLinkHtml = 'Like what you see? Visit the ' +\n",
              "            '<a target=\"_blank\" href=https://colab.research.google.com/notebooks/data_table.ipynb>data table notebook</a>'\n",
              "            + ' to learn more about interactive tables.';\n",
              "          element.innerHTML = '';\n",
              "          dataTable['output_type'] = 'display_data';\n",
              "          await google.colab.output.renderOutput(dataTable, element);\n",
              "          const docLink = document.createElement('div');\n",
              "          docLink.innerHTML = docLinkHtml;\n",
              "          element.appendChild(docLink);\n",
              "        }\n",
              "      </script>\n",
              "    </div>\n",
              "  </div>\n",
              "  "
            ]
          },
          "metadata": {},
          "execution_count": 29
        }
      ]
    },
    {
      "cell_type": "markdown",
      "source": [
        "Criando uma nova coluna de idade, calculado a partir da coluna 'date_joined'"
      ],
      "metadata": {
        "id": "Zj7baArYJXk8"
      }
    },
    {
      "cell_type": "code",
      "source": [
        "today = datetime.today()\n",
        "df['age'] = df['date_joined'].apply(\n",
        "               lambda x: today.year - x.year - \n",
        "               ((today.month, today.day) < (x.month, x.day)) \n",
        "               )"
      ],
      "metadata": {
        "id": "vfzLySrhMTxK"
      },
      "execution_count": 30,
      "outputs": []
    },
    {
      "cell_type": "code",
      "source": [
        "today = datetime.today()\n",
        "brasil['age'] = brasil['date_joined'].apply(\n",
        "               lambda x: today.year - x.year - \n",
        "               ((today.month, today.day) < (x.month, x.day)) \n",
        "               )"
      ],
      "metadata": {
        "colab": {
          "base_uri": "https://localhost:8080/"
        },
        "id": "YbhSFIQYU7Vv",
        "outputId": "c59c00fe-b219-4ffc-a6e1-05231082d259"
      },
      "execution_count": 31,
      "outputs": [
        {
          "output_type": "stream",
          "name": "stderr",
          "text": [
            "/usr/local/lib/python3.7/dist-packages/ipykernel_launcher.py:3: SettingWithCopyWarning: \n",
            "A value is trying to be set on a copy of a slice from a DataFrame.\n",
            "Try using .loc[row_indexer,col_indexer] = value instead\n",
            "\n",
            "See the caveats in the documentation: https://pandas.pydata.org/pandas-docs/stable/user_guide/indexing.html#returning-a-view-versus-a-copy\n",
            "  This is separate from the ipykernel package so we can avoid doing imports until\n"
          ]
        }
      ]
    },
    {
      "cell_type": "code",
      "source": [
        "brasil.head()"
      ],
      "metadata": {
        "colab": {
          "base_uri": "https://localhost:8080/",
          "height": 372
        },
        "id": "oFsrf4JSVrop",
        "outputId": "b9dfee24-1b7a-42ce-f657-0a9baf0c6aef"
      },
      "execution_count": 32,
      "outputs": [
        {
          "output_type": "execute_result",
          "data": {
            "text/plain": [
              "              company  valuation date_joined country       city  \\\n",
              "132       QuintoAndar       5.10  2019-09-09  Brazil   Campinas   \n",
              "133           C6 Bank       5.05  2020-12-02  Brazil  Sao Paulo   \n",
              "158          Creditas       4.80  2020-12-18  Brazil  Sao Paulo   \n",
              "283         Nuvemshop       3.10  2021-08-17  Brazil  Sao Paulo   \n",
              "291  Wildlife Studios       3.00  2019-12-05  Brazil  Sao Paulo   \n",
              "\n",
              "                            industry  \\\n",
              "132  E-commerce & direct-to-consumer   \n",
              "133                          Fintech   \n",
              "158                          Fintech   \n",
              "283  E-commerce & direct-to-consumer   \n",
              "291                            Games   \n",
              "\n",
              "                                             investors        investor1  \\\n",
              "132  Kaszek Ventures, General Atlantic, SoftBank Group  Kaszek Ventures   \n",
              "133                                      Credit Suisse    Credit Suisse   \n",
              "158  Kaszek Ventures, Amadeus Capital Partners, Quo...  Kaszek Ventures   \n",
              "283          Kaszek Ventures, Qualcomm Ventures, Accel  Kaszek Ventures   \n",
              "291               Benchmark, Bessemer Venture Partners        Benchmark   \n",
              "\n",
              "                     investor2       investor3 investor4  age  \n",
              "132           General Atlantic  SoftBank Group      None    3  \n",
              "133                       None            None      None    1  \n",
              "158   Amadeus Capital Partners   Quona Capital      None    1  \n",
              "283          Qualcomm Ventures           Accel      None    1  \n",
              "291  Bessemer Venture Partners            None      None    2  "
            ],
            "text/html": [
              "\n",
              "  <div id=\"df-87b030b1-c161-4e72-8c8d-9c7371ee90f1\">\n",
              "    <div class=\"colab-df-container\">\n",
              "      <div>\n",
              "<style scoped>\n",
              "    .dataframe tbody tr th:only-of-type {\n",
              "        vertical-align: middle;\n",
              "    }\n",
              "\n",
              "    .dataframe tbody tr th {\n",
              "        vertical-align: top;\n",
              "    }\n",
              "\n",
              "    .dataframe thead th {\n",
              "        text-align: right;\n",
              "    }\n",
              "</style>\n",
              "<table border=\"1\" class=\"dataframe\">\n",
              "  <thead>\n",
              "    <tr style=\"text-align: right;\">\n",
              "      <th></th>\n",
              "      <th>company</th>\n",
              "      <th>valuation</th>\n",
              "      <th>date_joined</th>\n",
              "      <th>country</th>\n",
              "      <th>city</th>\n",
              "      <th>industry</th>\n",
              "      <th>investors</th>\n",
              "      <th>investor1</th>\n",
              "      <th>investor2</th>\n",
              "      <th>investor3</th>\n",
              "      <th>investor4</th>\n",
              "      <th>age</th>\n",
              "    </tr>\n",
              "  </thead>\n",
              "  <tbody>\n",
              "    <tr>\n",
              "      <th>132</th>\n",
              "      <td>QuintoAndar</td>\n",
              "      <td>5.10</td>\n",
              "      <td>2019-09-09</td>\n",
              "      <td>Brazil</td>\n",
              "      <td>Campinas</td>\n",
              "      <td>E-commerce &amp; direct-to-consumer</td>\n",
              "      <td>Kaszek Ventures, General Atlantic, SoftBank Group</td>\n",
              "      <td>Kaszek Ventures</td>\n",
              "      <td>General Atlantic</td>\n",
              "      <td>SoftBank Group</td>\n",
              "      <td>None</td>\n",
              "      <td>3</td>\n",
              "    </tr>\n",
              "    <tr>\n",
              "      <th>133</th>\n",
              "      <td>C6 Bank</td>\n",
              "      <td>5.05</td>\n",
              "      <td>2020-12-02</td>\n",
              "      <td>Brazil</td>\n",
              "      <td>Sao Paulo</td>\n",
              "      <td>Fintech</td>\n",
              "      <td>Credit Suisse</td>\n",
              "      <td>Credit Suisse</td>\n",
              "      <td>None</td>\n",
              "      <td>None</td>\n",
              "      <td>None</td>\n",
              "      <td>1</td>\n",
              "    </tr>\n",
              "    <tr>\n",
              "      <th>158</th>\n",
              "      <td>Creditas</td>\n",
              "      <td>4.80</td>\n",
              "      <td>2020-12-18</td>\n",
              "      <td>Brazil</td>\n",
              "      <td>Sao Paulo</td>\n",
              "      <td>Fintech</td>\n",
              "      <td>Kaszek Ventures, Amadeus Capital Partners, Quo...</td>\n",
              "      <td>Kaszek Ventures</td>\n",
              "      <td>Amadeus Capital Partners</td>\n",
              "      <td>Quona Capital</td>\n",
              "      <td>None</td>\n",
              "      <td>1</td>\n",
              "    </tr>\n",
              "    <tr>\n",
              "      <th>283</th>\n",
              "      <td>Nuvemshop</td>\n",
              "      <td>3.10</td>\n",
              "      <td>2021-08-17</td>\n",
              "      <td>Brazil</td>\n",
              "      <td>Sao Paulo</td>\n",
              "      <td>E-commerce &amp; direct-to-consumer</td>\n",
              "      <td>Kaszek Ventures, Qualcomm Ventures, Accel</td>\n",
              "      <td>Kaszek Ventures</td>\n",
              "      <td>Qualcomm Ventures</td>\n",
              "      <td>Accel</td>\n",
              "      <td>None</td>\n",
              "      <td>1</td>\n",
              "    </tr>\n",
              "    <tr>\n",
              "      <th>291</th>\n",
              "      <td>Wildlife Studios</td>\n",
              "      <td>3.00</td>\n",
              "      <td>2019-12-05</td>\n",
              "      <td>Brazil</td>\n",
              "      <td>Sao Paulo</td>\n",
              "      <td>Games</td>\n",
              "      <td>Benchmark, Bessemer Venture Partners</td>\n",
              "      <td>Benchmark</td>\n",
              "      <td>Bessemer Venture Partners</td>\n",
              "      <td>None</td>\n",
              "      <td>None</td>\n",
              "      <td>2</td>\n",
              "    </tr>\n",
              "  </tbody>\n",
              "</table>\n",
              "</div>\n",
              "      <button class=\"colab-df-convert\" onclick=\"convertToInteractive('df-87b030b1-c161-4e72-8c8d-9c7371ee90f1')\"\n",
              "              title=\"Convert this dataframe to an interactive table.\"\n",
              "              style=\"display:none;\">\n",
              "        \n",
              "  <svg xmlns=\"http://www.w3.org/2000/svg\" height=\"24px\"viewBox=\"0 0 24 24\"\n",
              "       width=\"24px\">\n",
              "    <path d=\"M0 0h24v24H0V0z\" fill=\"none\"/>\n",
              "    <path d=\"M18.56 5.44l.94 2.06.94-2.06 2.06-.94-2.06-.94-.94-2.06-.94 2.06-2.06.94zm-11 1L8.5 8.5l.94-2.06 2.06-.94-2.06-.94L8.5 2.5l-.94 2.06-2.06.94zm10 10l.94 2.06.94-2.06 2.06-.94-2.06-.94-.94-2.06-.94 2.06-2.06.94z\"/><path d=\"M17.41 7.96l-1.37-1.37c-.4-.4-.92-.59-1.43-.59-.52 0-1.04.2-1.43.59L10.3 9.45l-7.72 7.72c-.78.78-.78 2.05 0 2.83L4 21.41c.39.39.9.59 1.41.59.51 0 1.02-.2 1.41-.59l7.78-7.78 2.81-2.81c.8-.78.8-2.07 0-2.86zM5.41 20L4 18.59l7.72-7.72 1.47 1.35L5.41 20z\"/>\n",
              "  </svg>\n",
              "      </button>\n",
              "      \n",
              "  <style>\n",
              "    .colab-df-container {\n",
              "      display:flex;\n",
              "      flex-wrap:wrap;\n",
              "      gap: 12px;\n",
              "    }\n",
              "\n",
              "    .colab-df-convert {\n",
              "      background-color: #E8F0FE;\n",
              "      border: none;\n",
              "      border-radius: 50%;\n",
              "      cursor: pointer;\n",
              "      display: none;\n",
              "      fill: #1967D2;\n",
              "      height: 32px;\n",
              "      padding: 0 0 0 0;\n",
              "      width: 32px;\n",
              "    }\n",
              "\n",
              "    .colab-df-convert:hover {\n",
              "      background-color: #E2EBFA;\n",
              "      box-shadow: 0px 1px 2px rgba(60, 64, 67, 0.3), 0px 1px 3px 1px rgba(60, 64, 67, 0.15);\n",
              "      fill: #174EA6;\n",
              "    }\n",
              "\n",
              "    [theme=dark] .colab-df-convert {\n",
              "      background-color: #3B4455;\n",
              "      fill: #D2E3FC;\n",
              "    }\n",
              "\n",
              "    [theme=dark] .colab-df-convert:hover {\n",
              "      background-color: #434B5C;\n",
              "      box-shadow: 0px 1px 3px 1px rgba(0, 0, 0, 0.15);\n",
              "      filter: drop-shadow(0px 1px 2px rgba(0, 0, 0, 0.3));\n",
              "      fill: #FFFFFF;\n",
              "    }\n",
              "  </style>\n",
              "\n",
              "      <script>\n",
              "        const buttonEl =\n",
              "          document.querySelector('#df-87b030b1-c161-4e72-8c8d-9c7371ee90f1 button.colab-df-convert');\n",
              "        buttonEl.style.display =\n",
              "          google.colab.kernel.accessAllowed ? 'block' : 'none';\n",
              "\n",
              "        async function convertToInteractive(key) {\n",
              "          const element = document.querySelector('#df-87b030b1-c161-4e72-8c8d-9c7371ee90f1');\n",
              "          const dataTable =\n",
              "            await google.colab.kernel.invokeFunction('convertToInteractive',\n",
              "                                                     [key], {});\n",
              "          if (!dataTable) return;\n",
              "\n",
              "          const docLinkHtml = 'Like what you see? Visit the ' +\n",
              "            '<a target=\"_blank\" href=https://colab.research.google.com/notebooks/data_table.ipynb>data table notebook</a>'\n",
              "            + ' to learn more about interactive tables.';\n",
              "          element.innerHTML = '';\n",
              "          dataTable['output_type'] = 'display_data';\n",
              "          await google.colab.output.renderOutput(dataTable, element);\n",
              "          const docLink = document.createElement('div');\n",
              "          docLink.innerHTML = docLinkHtml;\n",
              "          element.appendChild(docLink);\n",
              "        }\n",
              "      </script>\n",
              "    </div>\n",
              "  </div>\n",
              "  "
            ]
          },
          "metadata": {},
          "execution_count": 32
        }
      ]
    },
    {
      "cell_type": "code",
      "source": [
        "df.head()"
      ],
      "metadata": {
        "colab": {
          "base_uri": "https://localhost:8080/",
          "height": 407
        },
        "id": "aDn1uq61MtED",
        "outputId": "bc233002-20af-4377-8aef-79e317967f51"
      },
      "execution_count": 33,
      "outputs": [
        {
          "output_type": "execute_result",
          "data": {
            "text/plain": [
              "     company  valuation date_joined        country           city  \\\n",
              "0  ByteDance      140.0  2017-04-07          China        Beijing   \n",
              "1     SpaceX      127.0  2012-12-01  United States      Hawthorne   \n",
              "2      SHEIN      100.0  2018-07-03          China       Shenzhen   \n",
              "3     Stripe       95.0  2014-01-23  United States  San Francisco   \n",
              "4      Canva       40.0  2018-01-08      Australia    Surry Hills   \n",
              "\n",
              "                          industry  \\\n",
              "0          Artificial intelligence   \n",
              "1               Aerospace engineer   \n",
              "2  E-commerce & direct-to-consumer   \n",
              "3                          Fintech   \n",
              "4     Internet software & services   \n",
              "\n",
              "                                           investors                investor1  \\\n",
              "0  Sequoia Capital China, SIG Asia Investments, S...    Sequoia Capital China   \n",
              "1  Founders Fund, Draper Fisher Jurvetson, Rothen...            Founders Fund   \n",
              "2  Tiger Global Management, Sequoia Capital China...  Tiger Global Management   \n",
              "3        Khosla Ventures, LowercaseCapital, capitalG          Khosla Ventures   \n",
              "4  Sequoia Capital China, Blackbird Ventures, Mat...    Sequoia Capital China   \n",
              "\n",
              "                 investor2                 investor3       investor4  age  \n",
              "0     SIG Asia Investments                Sina Weibo  Softbank Group    5  \n",
              "1  Draper Fisher Jurvetson       Rothenberg Ventures            None    9  \n",
              "2    Sequoia Capital China  Shunwei Capital Partners            None    4  \n",
              "3         LowercaseCapital                  capitalG            None    8  \n",
              "4       Blackbird Ventures           Matrix Partners            None    4  "
            ],
            "text/html": [
              "\n",
              "  <div id=\"df-105b69f1-3017-49fb-9354-ed8c12c94d1b\">\n",
              "    <div class=\"colab-df-container\">\n",
              "      <div>\n",
              "<style scoped>\n",
              "    .dataframe tbody tr th:only-of-type {\n",
              "        vertical-align: middle;\n",
              "    }\n",
              "\n",
              "    .dataframe tbody tr th {\n",
              "        vertical-align: top;\n",
              "    }\n",
              "\n",
              "    .dataframe thead th {\n",
              "        text-align: right;\n",
              "    }\n",
              "</style>\n",
              "<table border=\"1\" class=\"dataframe\">\n",
              "  <thead>\n",
              "    <tr style=\"text-align: right;\">\n",
              "      <th></th>\n",
              "      <th>company</th>\n",
              "      <th>valuation</th>\n",
              "      <th>date_joined</th>\n",
              "      <th>country</th>\n",
              "      <th>city</th>\n",
              "      <th>industry</th>\n",
              "      <th>investors</th>\n",
              "      <th>investor1</th>\n",
              "      <th>investor2</th>\n",
              "      <th>investor3</th>\n",
              "      <th>investor4</th>\n",
              "      <th>age</th>\n",
              "    </tr>\n",
              "  </thead>\n",
              "  <tbody>\n",
              "    <tr>\n",
              "      <th>0</th>\n",
              "      <td>ByteDance</td>\n",
              "      <td>140.0</td>\n",
              "      <td>2017-04-07</td>\n",
              "      <td>China</td>\n",
              "      <td>Beijing</td>\n",
              "      <td>Artificial intelligence</td>\n",
              "      <td>Sequoia Capital China, SIG Asia Investments, S...</td>\n",
              "      <td>Sequoia Capital China</td>\n",
              "      <td>SIG Asia Investments</td>\n",
              "      <td>Sina Weibo</td>\n",
              "      <td>Softbank Group</td>\n",
              "      <td>5</td>\n",
              "    </tr>\n",
              "    <tr>\n",
              "      <th>1</th>\n",
              "      <td>SpaceX</td>\n",
              "      <td>127.0</td>\n",
              "      <td>2012-12-01</td>\n",
              "      <td>United States</td>\n",
              "      <td>Hawthorne</td>\n",
              "      <td>Aerospace engineer</td>\n",
              "      <td>Founders Fund, Draper Fisher Jurvetson, Rothen...</td>\n",
              "      <td>Founders Fund</td>\n",
              "      <td>Draper Fisher Jurvetson</td>\n",
              "      <td>Rothenberg Ventures</td>\n",
              "      <td>None</td>\n",
              "      <td>9</td>\n",
              "    </tr>\n",
              "    <tr>\n",
              "      <th>2</th>\n",
              "      <td>SHEIN</td>\n",
              "      <td>100.0</td>\n",
              "      <td>2018-07-03</td>\n",
              "      <td>China</td>\n",
              "      <td>Shenzhen</td>\n",
              "      <td>E-commerce &amp; direct-to-consumer</td>\n",
              "      <td>Tiger Global Management, Sequoia Capital China...</td>\n",
              "      <td>Tiger Global Management</td>\n",
              "      <td>Sequoia Capital China</td>\n",
              "      <td>Shunwei Capital Partners</td>\n",
              "      <td>None</td>\n",
              "      <td>4</td>\n",
              "    </tr>\n",
              "    <tr>\n",
              "      <th>3</th>\n",
              "      <td>Stripe</td>\n",
              "      <td>95.0</td>\n",
              "      <td>2014-01-23</td>\n",
              "      <td>United States</td>\n",
              "      <td>San Francisco</td>\n",
              "      <td>Fintech</td>\n",
              "      <td>Khosla Ventures, LowercaseCapital, capitalG</td>\n",
              "      <td>Khosla Ventures</td>\n",
              "      <td>LowercaseCapital</td>\n",
              "      <td>capitalG</td>\n",
              "      <td>None</td>\n",
              "      <td>8</td>\n",
              "    </tr>\n",
              "    <tr>\n",
              "      <th>4</th>\n",
              "      <td>Canva</td>\n",
              "      <td>40.0</td>\n",
              "      <td>2018-01-08</td>\n",
              "      <td>Australia</td>\n",
              "      <td>Surry Hills</td>\n",
              "      <td>Internet software &amp; services</td>\n",
              "      <td>Sequoia Capital China, Blackbird Ventures, Mat...</td>\n",
              "      <td>Sequoia Capital China</td>\n",
              "      <td>Blackbird Ventures</td>\n",
              "      <td>Matrix Partners</td>\n",
              "      <td>None</td>\n",
              "      <td>4</td>\n",
              "    </tr>\n",
              "  </tbody>\n",
              "</table>\n",
              "</div>\n",
              "      <button class=\"colab-df-convert\" onclick=\"convertToInteractive('df-105b69f1-3017-49fb-9354-ed8c12c94d1b')\"\n",
              "              title=\"Convert this dataframe to an interactive table.\"\n",
              "              style=\"display:none;\">\n",
              "        \n",
              "  <svg xmlns=\"http://www.w3.org/2000/svg\" height=\"24px\"viewBox=\"0 0 24 24\"\n",
              "       width=\"24px\">\n",
              "    <path d=\"M0 0h24v24H0V0z\" fill=\"none\"/>\n",
              "    <path d=\"M18.56 5.44l.94 2.06.94-2.06 2.06-.94-2.06-.94-.94-2.06-.94 2.06-2.06.94zm-11 1L8.5 8.5l.94-2.06 2.06-.94-2.06-.94L8.5 2.5l-.94 2.06-2.06.94zm10 10l.94 2.06.94-2.06 2.06-.94-2.06-.94-.94-2.06-.94 2.06-2.06.94z\"/><path d=\"M17.41 7.96l-1.37-1.37c-.4-.4-.92-.59-1.43-.59-.52 0-1.04.2-1.43.59L10.3 9.45l-7.72 7.72c-.78.78-.78 2.05 0 2.83L4 21.41c.39.39.9.59 1.41.59.51 0 1.02-.2 1.41-.59l7.78-7.78 2.81-2.81c.8-.78.8-2.07 0-2.86zM5.41 20L4 18.59l7.72-7.72 1.47 1.35L5.41 20z\"/>\n",
              "  </svg>\n",
              "      </button>\n",
              "      \n",
              "  <style>\n",
              "    .colab-df-container {\n",
              "      display:flex;\n",
              "      flex-wrap:wrap;\n",
              "      gap: 12px;\n",
              "    }\n",
              "\n",
              "    .colab-df-convert {\n",
              "      background-color: #E8F0FE;\n",
              "      border: none;\n",
              "      border-radius: 50%;\n",
              "      cursor: pointer;\n",
              "      display: none;\n",
              "      fill: #1967D2;\n",
              "      height: 32px;\n",
              "      padding: 0 0 0 0;\n",
              "      width: 32px;\n",
              "    }\n",
              "\n",
              "    .colab-df-convert:hover {\n",
              "      background-color: #E2EBFA;\n",
              "      box-shadow: 0px 1px 2px rgba(60, 64, 67, 0.3), 0px 1px 3px 1px rgba(60, 64, 67, 0.15);\n",
              "      fill: #174EA6;\n",
              "    }\n",
              "\n",
              "    [theme=dark] .colab-df-convert {\n",
              "      background-color: #3B4455;\n",
              "      fill: #D2E3FC;\n",
              "    }\n",
              "\n",
              "    [theme=dark] .colab-df-convert:hover {\n",
              "      background-color: #434B5C;\n",
              "      box-shadow: 0px 1px 3px 1px rgba(0, 0, 0, 0.15);\n",
              "      filter: drop-shadow(0px 1px 2px rgba(0, 0, 0, 0.3));\n",
              "      fill: #FFFFFF;\n",
              "    }\n",
              "  </style>\n",
              "\n",
              "      <script>\n",
              "        const buttonEl =\n",
              "          document.querySelector('#df-105b69f1-3017-49fb-9354-ed8c12c94d1b button.colab-df-convert');\n",
              "        buttonEl.style.display =\n",
              "          google.colab.kernel.accessAllowed ? 'block' : 'none';\n",
              "\n",
              "        async function convertToInteractive(key) {\n",
              "          const element = document.querySelector('#df-105b69f1-3017-49fb-9354-ed8c12c94d1b');\n",
              "          const dataTable =\n",
              "            await google.colab.kernel.invokeFunction('convertToInteractive',\n",
              "                                                     [key], {});\n",
              "          if (!dataTable) return;\n",
              "\n",
              "          const docLinkHtml = 'Like what you see? Visit the ' +\n",
              "            '<a target=\"_blank\" href=https://colab.research.google.com/notebooks/data_table.ipynb>data table notebook</a>'\n",
              "            + ' to learn more about interactive tables.';\n",
              "          element.innerHTML = '';\n",
              "          dataTable['output_type'] = 'display_data';\n",
              "          await google.colab.output.renderOutput(dataTable, element);\n",
              "          const docLink = document.createElement('div');\n",
              "          docLink.innerHTML = docLinkHtml;\n",
              "          element.appendChild(docLink);\n",
              "        }\n",
              "      </script>\n",
              "    </div>\n",
              "  </div>\n",
              "  "
            ]
          },
          "metadata": {},
          "execution_count": 33
        }
      ]
    },
    {
      "cell_type": "markdown",
      "source": [
        "#**Ciclo Análitico**"
      ],
      "metadata": {
        "id": "1yd8j9fmtRl1"
      }
    },
    {
      "cell_type": "markdown",
      "source": [
        "1. Fintechs são maiores do que as demais.\n",
        "    \n"
      ],
      "metadata": {
        "id": "1wGEBz1PtVPJ"
      }
    },
    {
      "cell_type": "code",
      "source": [
        "df.groupby('industry')['valuation'].sum().sort_values(ascending=False).plot.bar()\n",
        "plt.title('Setores por valuation')"
      ],
      "metadata": {
        "colab": {
          "base_uri": "https://localhost:8080/",
          "height": 475
        },
        "id": "1K-TmErRtwgr",
        "outputId": "32ecc8af-8cf1-4d26-f58e-47f3d0843452"
      },
      "execution_count": 60,
      "outputs": [
        {
          "output_type": "execute_result",
          "data": {
            "text/plain": [
              "Text(0.5, 1.0, 'Setores por valuation')"
            ]
          },
          "metadata": {},
          "execution_count": 60
        },
        {
          "output_type": "display_data",
          "data": {
            "text/plain": [
              "<Figure size 432x288 with 1 Axes>"
            ],
            "image/png": "[encoded data removed]"
          },
          "metadata": {
            "needs_background": "light"
          }
        }
      ]
    },
    {
      "cell_type": "markdown",
      "source": [
        "De fato as Fintechs são as lideres no mercado de startups unicórnios"
      ],
      "metadata": {
        "id": "eeGTq1s9YbXf"
      }
    },
    {
      "cell_type": "markdown",
      "source": [
        "2. EUA e China (potências) lideram em quantidade e valor econômico "
      ],
      "metadata": {
        "id": "iuB_WJoHtfaI"
      }
    },
    {
      "cell_type": "markdown",
      "source": [
        "Seja em quantidade de empresas, seja no valor de mercado dessas empresas, EUA e China lideram o mercado no seguimento de unicórnios. Destaque para os EUA que possui larga vantagem sobre todos os demais, inclusive perante os chineses."
      ],
      "metadata": {
        "id": "6ivoN95OYzFH"
      }
    },
    {
      "cell_type": "code",
      "source": [
        "df['country'].value_counts()[:10].plot.bar()\n",
        "plt.title('Top 10 países em quantidade de unicórnios')\n"
      ],
      "metadata": {
        "colab": {
          "base_uri": "https://localhost:8080/",
          "height": 370
        },
        "id": "ZgwGDCasuFHw",
        "outputId": "e57a2424-8399-42de-911b-12a83b3ae47e"
      },
      "execution_count": 63,
      "outputs": [
        {
          "output_type": "execute_result",
          "data": {
            "text/plain": [
              "Text(0.5, 1.0, 'Top 10 países em quantidade de unicórnios')"
            ]
          },
          "metadata": {},
          "execution_count": 63
        },
        {
          "output_type": "display_data",
          "data": {
            "text/plain": [
              "<Figure size 432x288 with 1 Axes>"
            ],
            "image/png": "[encoded data removed]"
          },
          "metadata": {
            "needs_background": "light"
          }
        }
      ]
    },
    {
      "cell_type": "code",
      "source": [
        "df.groupby('country')['valuation'].sum().sort_values(ascending = False)[:10].plot(kind='bar')\n",
        "plt.title('Top 10 países em valor de mercado dos unicórnios')"
      ],
      "metadata": {
        "id": "bgRP-ebEuVBW",
        "outputId": "39f6c9c2-a2f1-4b23-c094-c50b5fe6232a",
        "colab": {
          "base_uri": "https://localhost:8080/",
          "height": 384
        }
      },
      "execution_count": 62,
      "outputs": [
        {
          "output_type": "execute_result",
          "data": {
            "text/plain": [
              "Text(0.5, 1.0, 'Top 10 países em valor de mercado dos unicórnios')"
            ]
          },
          "metadata": {},
          "execution_count": 62
        },
        {
          "output_type": "display_data",
          "data": {
            "text/plain": [
              "<Figure size 432x288 with 1 Axes>"
            ],
            "image/png": "[encoded data removed]"
          },
          "metadata": {
            "needs_background": "light"
          }
        }
      ]
    },
    {
      "cell_type": "markdown",
      "source": [
        "3. Cenário brasileiro\n",
        "    "
      ],
      "metadata": {
        "id": "s7mbXng-tldZ"
      }
    },
    {
      "cell_type": "markdown",
      "source": [
        "No Brasil, apesar da diversidade de setores, as Fintechs lideram em termos de tamanho de mercado."
      ],
      "metadata": {
        "id": "8ZqhilEhZS-o"
      }
    },
    {
      "cell_type": "code",
      "source": [
        "brasil.groupby('industry')['valuation'].sum().sort_values(ascending=False).plot(kind='bar')\n",
        "plt.title('Setores por valuation Brasil')"
      ],
      "metadata": {
        "colab": {
          "base_uri": "https://localhost:8080/",
          "height": 475
        },
        "id": "-3dBEGrGmnv-",
        "outputId": "f0e7e4a1-55ab-478f-d17c-92544812b51e"
      },
      "execution_count": 64,
      "outputs": [
        {
          "output_type": "execute_result",
          "data": {
            "text/plain": [
              "Text(0.5, 1.0, 'Setores por valuation Brasil')"
            ]
          },
          "metadata": {},
          "execution_count": 64
        },
        {
          "output_type": "display_data",
          "data": {
            "text/plain": [
              "<Figure size 432x288 with 1 Axes>"
            ],
            "image/png": "[encoded data removed]"
          },
          "metadata": {
            "needs_background": "light"
          }
        }
      ]
    },
    {
      "cell_type": "code",
      "source": [
        "brasil.groupby('company')['valuation'].sum().sort_values(ascending = False).plot(kind='bar')\n",
        "plt.title('Valuation por empresa Brasil')\n",
        "\n"
      ],
      "metadata": {
        "colab": {
          "base_uri": "https://localhost:8080/",
          "height": 384
        },
        "id": "n9UOWqArmqNX",
        "outputId": "3d126475-8cf2-4b4d-c3f5-9068e230d277"
      },
      "execution_count": 65,
      "outputs": [
        {
          "output_type": "execute_result",
          "data": {
            "text/plain": [
              "Text(0.5, 1.0, 'Valuation por empresa Brasil')"
            ]
          },
          "metadata": {},
          "execution_count": 65
        },
        {
          "output_type": "display_data",
          "data": {
            "text/plain": [
              "<Figure size 432x288 with 1 Axes>"
            ],
            "image/png": "[encoded data removed]"
          },
          "metadata": {
            "needs_background": "light"
          }
        }
      ]
    },
    {
      "cell_type": "markdown",
      "source": [
        "4. Quanto mais velha, maior a empresa em termos de valuation.\n",
        "    "
      ],
      "metadata": {
        "id": "4Lcp-8k-tol2"
      }
    },
    {
      "cell_type": "code",
      "source": [
        "sns.regplot(x=df[\"age\"], y=df[\"valuation\"], line_kws={\"color\":\"r\",\"alpha\":0.7,\"lw\":5})\n"
      ],
      "metadata": {
        "colab": {
          "base_uri": "https://localhost:8080/",
          "height": 297
        },
        "id": "Xr9fqGYtdIPu",
        "outputId": "151b04c0-e3b9-4846-8b9c-814e57a95fbc"
      },
      "execution_count": 39,
      "outputs": [
        {
          "output_type": "execute_result",
          "data": {
            "text/plain": [
              "<matplotlib.axes._subplots.AxesSubplot at 0x7f1145634e90>"
            ]
          },
          "metadata": {},
          "execution_count": 39
        },
        {
          "output_type": "display_data",
          "data": {
            "text/plain": [
              "<Figure size 432x288 with 1 Axes>"
            ],
            "image/png": "[encoded data removed]"
          },
          "metadata": {
            "needs_background": "light"
          }
        }
      ]
    },
    {
      "cell_type": "code",
      "source": [
        "df.corr(method='pearson')\n"
      ],
      "metadata": {
        "colab": {
          "base_uri": "https://localhost:8080/",
          "height": 112
        },
        "id": "9DsU3mzCcK_0",
        "outputId": "348499a8-104d-41fa-d074-ddb02886e17f"
      },
      "execution_count": 40,
      "outputs": [
        {
          "output_type": "execute_result",
          "data": {
            "text/plain": [
              "           valuation       age\n",
              "valuation   1.000000  0.229647\n",
              "age         0.229647  1.000000"
            ],
            "text/html": [
              "\n",
              "  <div id=\"df-e45e01f8-4b91-498f-8760-8018c4dbe34a\">\n",
              "    <div class=\"colab-df-container\">\n",
              "      <div>\n",
              "<style scoped>\n",
              "    .dataframe tbody tr th:only-of-type {\n",
              "        vertical-align: middle;\n",
              "    }\n",
              "\n",
              "    .dataframe tbody tr th {\n",
              "        vertical-align: top;\n",
              "    }\n",
              "\n",
              "    .dataframe thead th {\n",
              "        text-align: right;\n",
              "    }\n",
              "</style>\n",
              "<table border=\"1\" class=\"dataframe\">\n",
              "  <thead>\n",
              "    <tr style=\"text-align: right;\">\n",
              "      <th></th>\n",
              "      <th>valuation</th>\n",
              "      <th>age</th>\n",
              "    </tr>\n",
              "  </thead>\n",
              "  <tbody>\n",
              "    <tr>\n",
              "      <th>valuation</th>\n",
              "      <td>1.000000</td>\n",
              "      <td>0.229647</td>\n",
              "    </tr>\n",
              "    <tr>\n",
              "      <th>age</th>\n",
              "      <td>0.229647</td>\n",
              "      <td>1.000000</td>\n",
              "    </tr>\n",
              "  </tbody>\n",
              "</table>\n",
              "</div>\n",
              "      <button class=\"colab-df-convert\" onclick=\"convertToInteractive('df-e45e01f8-4b91-498f-8760-8018c4dbe34a')\"\n",
              "              title=\"Convert this dataframe to an interactive table.\"\n",
              "              style=\"display:none;\">\n",
              "        \n",
              "  <svg xmlns=\"http://www.w3.org/2000/svg\" height=\"24px\"viewBox=\"0 0 24 24\"\n",
              "       width=\"24px\">\n",
              "    <path d=\"M0 0h24v24H0V0z\" fill=\"none\"/>\n",
              "    <path d=\"M18.56 5.44l.94 2.06.94-2.06 2.06-.94-2.06-.94-.94-2.06-.94 2.06-2.06.94zm-11 1L8.5 8.5l.94-2.06 2.06-.94-2.06-.94L8.5 2.5l-.94 2.06-2.06.94zm10 10l.94 2.06.94-2.06 2.06-.94-2.06-.94-.94-2.06-.94 2.06-2.06.94z\"/><path d=\"M17.41 7.96l-1.37-1.37c-.4-.4-.92-.59-1.43-.59-.52 0-1.04.2-1.43.59L10.3 9.45l-7.72 7.72c-.78.78-.78 2.05 0 2.83L4 21.41c.39.39.9.59 1.41.59.51 0 1.02-.2 1.41-.59l7.78-7.78 2.81-2.81c.8-.78.8-2.07 0-2.86zM5.41 20L4 18.59l7.72-7.72 1.47 1.35L5.41 20z\"/>\n",
              "  </svg>\n",
              "      </button>\n",
              "      \n",
              "  <style>\n",
              "    .colab-df-container {\n",
              "      display:flex;\n",
              "      flex-wrap:wrap;\n",
              "      gap: 12px;\n",
              "    }\n",
              "\n",
              "    .colab-df-convert {\n",
              "      background-color: #E8F0FE;\n",
              "      border: none;\n",
              "      border-radius: 50%;\n",
              "      cursor: pointer;\n",
              "      display: none;\n",
              "      fill: #1967D2;\n",
              "      height: 32px;\n",
              "      padding: 0 0 0 0;\n",
              "      width: 32px;\n",
              "    }\n",
              "\n",
              "    .colab-df-convert:hover {\n",
              "      background-color: #E2EBFA;\n",
              "      box-shadow: 0px 1px 2px rgba(60, 64, 67, 0.3), 0px 1px 3px 1px rgba(60, 64, 67, 0.15);\n",
              "      fill: #174EA6;\n",
              "    }\n",
              "\n",
              "    [theme=dark] .colab-df-convert {\n",
              "      background-color: #3B4455;\n",
              "      fill: #D2E3FC;\n",
              "    }\n",
              "\n",
              "    [theme=dark] .colab-df-convert:hover {\n",
              "      background-color: #434B5C;\n",
              "      box-shadow: 0px 1px 3px 1px rgba(0, 0, 0, 0.15);\n",
              "      filter: drop-shadow(0px 1px 2px rgba(0, 0, 0, 0.3));\n",
              "      fill: #FFFFFF;\n",
              "    }\n",
              "  </style>\n",
              "\n",
              "      <script>\n",
              "        const buttonEl =\n",
              "          document.querySelector('#df-e45e01f8-4b91-498f-8760-8018c4dbe34a button.colab-df-convert');\n",
              "        buttonEl.style.display =\n",
              "          google.colab.kernel.accessAllowed ? 'block' : 'none';\n",
              "\n",
              "        async function convertToInteractive(key) {\n",
              "          const element = document.querySelector('#df-e45e01f8-4b91-498f-8760-8018c4dbe34a');\n",
              "          const dataTable =\n",
              "            await google.colab.kernel.invokeFunction('convertToInteractive',\n",
              "                                                     [key], {});\n",
              "          if (!dataTable) return;\n",
              "\n",
              "          const docLinkHtml = 'Like what you see? Visit the ' +\n",
              "            '<a target=\"_blank\" href=https://colab.research.google.com/notebooks/data_table.ipynb>data table notebook</a>'\n",
              "            + ' to learn more about interactive tables.';\n",
              "          element.innerHTML = '';\n",
              "          dataTable['output_type'] = 'display_data';\n",
              "          await google.colab.output.renderOutput(dataTable, element);\n",
              "          const docLink = document.createElement('div');\n",
              "          docLink.innerHTML = docLinkHtml;\n",
              "          element.appendChild(docLink);\n",
              "        }\n",
              "      </script>\n",
              "    </div>\n",
              "  </div>\n",
              "  "
            ]
          },
          "metadata": {},
          "execution_count": 40
        }
      ]
    },
    {
      "cell_type": "markdown",
      "source": [
        "Aparentemente não existe correlação entre as variáveis, pois 0,2 é baixo. Provavalmente os outliers em questão de valuation comprometeram a análise, mas como meu objetivo é analisar o mercado com base no que acontece, chego a conclusão que Idade X Valuation não possuem correlação."
      ],
      "metadata": {
        "id": "tgb4NeeKeCDX"
      }
    },
    {
      "cell_type": "markdown",
      "source": [
        "Comparação Br x Mundo\n",
        "\n"
      ],
      "metadata": {
        "id": "_ySIKFqLtsFA"
      }
    },
    {
      "cell_type": "markdown",
      "source": [
        "Comparando os setores pode-se observar que as Fintechs são as líderes tanto no Brasil como no resto do mundo"
      ],
      "metadata": {
        "id": "cXoq2SbXSj0O"
      }
    },
    {
      "cell_type": "code",
      "source": [
        "df.groupby('industry')['valuation'].sum().sort_values(ascending=False).plot.bar()\n",
        "plt.title('Setores por valuation')"
      ],
      "metadata": {
        "colab": {
          "base_uri": "https://localhost:8080/",
          "height": 475
        },
        "id": "pb7lGh8jSiN8",
        "outputId": "7b86cacb-82eb-4d55-9192-4d13ef4e1196"
      },
      "execution_count": 66,
      "outputs": [
        {
          "output_type": "execute_result",
          "data": {
            "text/plain": [
              "Text(0.5, 1.0, 'Setores por valuation')"
            ]
          },
          "metadata": {},
          "execution_count": 66
        },
        {
          "output_type": "display_data",
          "data": {
            "text/plain": [
              "<Figure size 432x288 with 1 Axes>"
            ],
            "image/png": "[encoded data removed]"
          },
          "metadata": {
            "needs_background": "light"
          }
        }
      ]
    },
    {
      "cell_type": "code",
      "source": [
        "brasil.groupby('industry')['valuation'].sum().sort_values(ascending=False).plot(kind='bar')\n",
        "plt.title('Setores por valuation Brasil')"
      ],
      "metadata": {
        "colab": {
          "base_uri": "https://localhost:8080/",
          "height": 475
        },
        "id": "4Pi-1VE3Uf9t",
        "outputId": "a4eeab5e-b471-4382-8181-5981e955c84d"
      },
      "execution_count": 67,
      "outputs": [
        {
          "output_type": "execute_result",
          "data": {
            "text/plain": [
              "Text(0.5, 1.0, 'Setores por valuation Brasil')"
            ]
          },
          "metadata": {},
          "execution_count": 67
        },
        {
          "output_type": "display_data",
          "data": {
            "text/plain": [
              "<Figure size 432x288 with 1 Axes>"
            ],
            "image/png": "[encoded data removed]"
          },
          "metadata": {
            "needs_background": "light"
          }
        }
      ]
    },
    {
      "cell_type": "markdown",
      "source": [
        "Tanto no Brasil quanto no resto do mundo não ficou clara uma correlação entre idade e valor de mercado "
      ],
      "metadata": {
        "id": "yCdO4Y2TWbZ8"
      }
    },
    {
      "cell_type": "code",
      "source": [
        "sns.regplot(x=brasil[\"age\"], y=brasil[\"valuation\"], line_kws={\"color\":\"r\",\"alpha\":0.7,\"lw\":5})\n",
        "#Análise Brasil\n"
      ],
      "metadata": {
        "colab": {
          "base_uri": "https://localhost:8080/",
          "height": 297
        },
        "id": "VLgXwPZZUkt7",
        "outputId": "11ff2ef4-eeec-44c5-d3c3-a46849f6d223"
      },
      "execution_count": 43,
      "outputs": [
        {
          "output_type": "execute_result",
          "data": {
            "text/plain": [
              "<matplotlib.axes._subplots.AxesSubplot at 0x7f1145312890>"
            ]
          },
          "metadata": {},
          "execution_count": 43
        },
        {
          "output_type": "display_data",
          "data": {
            "text/plain": [
              "<Figure size 432x288 with 1 Axes>"
            ],
            "image/png": "[encoded data removed]"
          },
          "metadata": {
            "needs_background": "light"
          }
        }
      ]
    },
    {
      "cell_type": "code",
      "source": [
        "sns.regplot(x=df[\"age\"], y=df[\"valuation\"], line_kws={\"color\":\"r\",\"alpha\":0.7,\"lw\":5})\n",
        "#Análise resto do mundo\n"
      ],
      "metadata": {
        "colab": {
          "base_uri": "https://localhost:8080/",
          "height": 297
        },
        "id": "15zr70wTWB4W",
        "outputId": "d9a04a03-530e-4106-b3ca-00327bf75e33"
      },
      "execution_count": 44,
      "outputs": [
        {
          "output_type": "execute_result",
          "data": {
            "text/plain": [
              "<matplotlib.axes._subplots.AxesSubplot at 0x7f11452fac10>"
            ]
          },
          "metadata": {},
          "execution_count": 44
        },
        {
          "output_type": "display_data",
          "data": {
            "text/plain": [
              "<Figure size 432x288 with 1 Axes>"
            ],
            "image/png": "[encoded data removed]"
          },
          "metadata": {
            "needs_background": "light"
          }
        }
      ]
    },
    {
      "cell_type": "markdown",
      "source": [
        "#Conclusão"
      ],
      "metadata": {
        "id": "4rS0J_Br5Fds"
      }
    },
    {
      "cell_type": "markdown",
      "source": [
        "Estados Unidos e China demonstraram que o tamanho de suas economicas reflete na força de suas empresas. Apesar disso, os americanos estão bem na frente na questão dos unicórnios, seja em valuation, seja em quantidade de empresas.\n",
        "Também podemos observar que o Brasil está no top 10 de quantidade de unicórnios e em valuation, ou seja, de certa forma as empresas brasileiras conseguiram conquistar um espaço no mercado de startups.\n",
        "\n",
        "Em relação ao cenário econômico dessas empresas pode-se observar que fintechs, produtoras de softwares e e-commerces são os setores que demonstraram maior força perante as demais, o que também foi valido no cenário brasileiro.\n",
        "\n",
        "Apesar da diferença econômica, o Brasil se mostrou capaz de criar e estabilizar empresas competitivas em relação ao restante do mundo. Lembrando que empresas consolidadas e presentes na bolsa de valores não estão presentes na análise, ao exemplo da gigante fintech Nubank."
      ],
      "metadata": {
        "id": "1ISVX20O5Jrr"
      }
    },
    {
      "cell_type": "markdown",
      "source": [
        "Possibilidades futuras para o projeto\n",
        "1.   Checar a possibilidade de fazer alguma combinação com esses dados e juntar com outras bases para entender o momento de layoffs no Br.\n",
        "2.   Buscar base de dados de empresas listadas na bolsa para fazer comparação.\n",
        "3.   Atrelar essa pesquisa com alguma base de dados que mostre o investimento dos governos em educação e tecnologia, a fim de entender se existe alguma relação;\n",
        "4.   Destrinchar a quantidade de capital investido por diferentes investidores para identificar quais setores ou empresas possuem mais possibilidade de receber investimento."
      ],
      "metadata": {
        "id": "K9BgDLVF2WYv"
      }
    },
    {
      "cell_type": "markdown",
      "source": [
        "Referências:\n",
        "\n",
        "[Dataset no Kaggle](https://www.kaggle.com/datasets/ramjasmaurya/unicorn-startups)\n",
        "\n",
        "[Dados sobre Startups](https://www.cbinsights.com/research/unicorn-company-slowdown/?utm_source=CB+Insights+Newsletter&utm_medium=email&utm_campaign=newsletter_general_wed_2022_09_14&utm_term=spiel&utm_content=research-public)"
      ],
      "metadata": {
        "id": "u2MvoelM4O1l"
      }
    },
    {
      "cell_type": "markdown",
      "source": [
        "Caso tenha algum problema para visualizar os gráficos no Github, basta acessar o seguinte link para acessar diretamente o notebook.\n",
        "[Notebook](https://colab.research.google.com/drive/1LeUgYwtyJDL6H5xvsimkG4uM4E5YQu7_?usp=sharing)"
      ],
      "metadata": {
        "id": "Ema5Jir9trP5"
      }
    }
  ]
}